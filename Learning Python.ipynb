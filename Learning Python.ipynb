{
 "cells": [
  {
   "cell_type": "markdown",
   "id": "f07963da-342e-4943-9f7f-98a8fd524780",
   "metadata": {},
   "source": [
    "# Learning Python! \n",
    "## 03.02.2025 \n",
    "## Tanvir Rahman Tonoy "
   ]
  },
  {
   "cell_type": "markdown",
   "id": "3ce271a8-0dfc-43ea-be4d-f8139b21106f",
   "metadata": {},
   "source": [
    "## Versions"
   ]
  },
  {
   "cell_type": "code",
   "execution_count": 7,
   "id": "b66e91b7-4d6a-408b-955b-9911f6d51455",
   "metadata": {},
   "outputs": [
    {
     "name": "stdout",
     "output_type": "stream",
     "text": [
      "3.12.4 | packaged by Anaconda, Inc. | (main, Jun 18 2024, 10:07:17) [Clang 14.0.6 ]\n"
     ]
    }
   ],
   "source": [
    "import sys\n",
    "print(sys.version)"
   ]
  },
  {
   "cell_type": "code",
   "execution_count": 9,
   "id": "f6fdb084-785d-4b15-a71e-57704f556123",
   "metadata": {},
   "outputs": [],
   "source": [
    "# Learning everyday brings you something great :) "
   ]
  },
  {
   "cell_type": "code",
   "execution_count": 13,
   "id": "1ec5abd2-d9f0-4cdf-925a-c86206a35e80",
   "metadata": {},
   "outputs": [
    {
     "data": {
      "text/plain": [
       "'\\nI love the way python works\\nAnd it is easy and I want to learn as much as I can \\n'"
      ]
     },
     "execution_count": 13,
     "metadata": {},
     "output_type": "execute_result"
    }
   ],
   "source": [
    "\"\"\"\n",
    "I love the way python works\n",
    "And it is easy and I want to learn as much as I can \n",
    "\"\"\" "
   ]
  },
  {
   "cell_type": "markdown",
   "id": "82f0dfb7-fc5d-4018-803b-a8dc41c8c922",
   "metadata": {},
   "source": [
    "## Variables , casting , single qoute or double qoute , MultiWord variable name "
   ]
  },
  {
   "cell_type": "code",
   "execution_count": 18,
   "id": "89731613-9c35-46d8-ad38-fef80c0150e9",
   "metadata": {},
   "outputs": [
    {
     "name": "stdout",
     "output_type": "stream",
     "text": [
      "(10,) tonoy True\n"
     ]
    }
   ],
   "source": [
    "x = 10 , \n",
    "y = \"tonoy\"\n",
    "z = True\n",
    "print(x,y,z)"
   ]
  },
  {
   "cell_type": "code",
   "execution_count": 20,
   "id": "f0a2dd6c-3cae-4b9d-a290-5fd7f2b9311b",
   "metadata": {},
   "outputs": [
    {
     "name": "stdout",
     "output_type": "stream",
     "text": [
      "Tanvir Tonoy 17 September , 2003\n"
     ]
    }
   ],
   "source": [
    "# Camel Case \n",
    "firstName = \"Tanvir\"\n",
    "# Pascal Case \n",
    "LastName = \"Tonoy\"\n",
    "# Snack Case \n",
    "date_of_birth = \"17 September , 2003\"\n",
    "print(firstName,LastName, date_of_birth)"
   ]
  },
  {
   "cell_type": "code",
   "execution_count": 22,
   "id": "2d86f8f9-24f4-4c6f-9a10-38ad9a0c608f",
   "metadata": {},
   "outputs": [],
   "source": [
    "# assigning multiple variables :\n",
    "x,y,z = \"Mim\", \"Sayra\", \"4 September 2004\""
   ]
  },
  {
   "cell_type": "code",
   "execution_count": 24,
   "id": "3b4feb71-a4a9-4d4c-b5c5-50fc648af34c",
   "metadata": {},
   "outputs": [
    {
     "name": "stdout",
     "output_type": "stream",
     "text": [
      "Mim Sayra 4 September 2004\n"
     ]
    }
   ],
   "source": [
    "print(x,y,z)"
   ]
  },
  {
   "cell_type": "code",
   "execution_count": 26,
   "id": "a0f03668-80dc-4077-b1a8-94ea7cebd673",
   "metadata": {},
   "outputs": [
    {
     "name": "stdout",
     "output_type": "stream",
     "text": [
      "Shimul\n",
      "Riyad\n",
      "Ador\n"
     ]
    }
   ],
   "source": [
    "Collection1 = [\"Shimul\",\"Riyad\",\"Ador\"]\n",
    "x,y,z = Collection1\n",
    "print(x)\n",
    "print(y)\n",
    "print(z)"
   ]
  },
  {
   "cell_type": "code",
   "execution_count": 64,
   "id": "c561d847-35cb-4d4c-8a09-4dae42bb5596",
   "metadata": {},
   "outputs": [],
   "source": [
    "# global variable \n",
    "\n",
    "def func1():\n",
    "    global a\n",
    "    a = \"Fi Amanillah\"\n",
    "    print(a + \" Allah may give you the peace\")\n",
    "def func2():\n",
    "    print(a)\n",
    "    "
   ]
  },
  {
   "cell_type": "code",
   "execution_count": 66,
   "id": "0997d801-9124-45cc-98c7-9e4ac75efbd6",
   "metadata": {},
   "outputs": [
    {
     "name": "stdout",
     "output_type": "stream",
     "text": [
      "Fi Amanillah Allah may give you the peace\n"
     ]
    }
   ],
   "source": [
    "func1()"
   ]
  },
  {
   "cell_type": "code",
   "execution_count": 68,
   "id": "8524f657-545b-4356-848c-3a4476c1801e",
   "metadata": {},
   "outputs": [
    {
     "name": "stdout",
     "output_type": "stream",
     "text": [
      "Fi Amanillah\n"
     ]
    }
   ],
   "source": [
    "func2()"
   ]
  },
  {
   "cell_type": "markdown",
   "id": "7dc97586-2d85-4a34-a2a4-da5fb87db54d",
   "metadata": {},
   "source": [
    "## Data Types "
   ]
  },
  {
   "cell_type": "markdown",
   "id": "6abfa06b-c36e-49d0-b881-dba0030b159b",
   "metadata": {},
   "source": [
    "### there are 15 different types of Data in Python \n",
    "```\n",
    "Text Type:\tstr\n",
    "Numeric Types:\tint, float, complex\n",
    "Sequence Types:\tlist, tuple, range\n",
    "Mapping Type:\tdict\n",
    "Set Types:\tset, frozenset\n",
    "Boolean Type:\tbool\n",
    "Binary Types:\tbytes, bytearray, memoryview\n",
    "None Type:\tNoneType\n",
    "```"
   ]
  },
  {
   "cell_type": "code",
   "execution_count": 85,
   "id": "27223c3b-e8ac-42bb-9760-5914a5912855",
   "metadata": {},
   "outputs": [],
   "source": [
    "x1 = \"Hello World\"\t#str\t\n",
    "x2 = 20\t#int\t\n",
    "x3 = 20.5\t#float\t\n",
    "x4 = 1j\t#complex\t\n",
    "x5 = [\"apple\", \"banana\", \"cherry\"]\t#list\t\n",
    "x6 = (\"apple\", \"banana\", \"cherry\")\t#tuple\t\n",
    "x7 = range(6)\t#range\t\n",
    "x8 = {\"name\" : \"John\", \"age\" : 36}\t#dict\t\n",
    "x9 = {\"apple\", \"banana\", \"cherry\"}\t#set\t\n",
    "x10 = frozenset({\"apple\", \"banana\", \"cherry\"})\t#frozenset\t\n",
    "x11 = True\t#bool\t\n",
    "x12 = b\"Hello\"\t#bytes\t\n",
    "x13 = bytearray(5)\t#bytearray\t\n",
    "x14 = memoryview(bytes(5))\t#memoryview\t\n",
    "x15 = None\t#NoneType"
   ]
  },
  {
   "cell_type": "markdown",
   "id": "bea5120a-70c2-492d-870e-842a924e4114",
   "metadata": {},
   "source": [
    "# Using casting \n",
    "```\n",
    "x = str(\"Hello World\")\tstr\n",
    "x = int(20)\tint\t\n",
    "x = float(20.5)\tfloat\t\n",
    "x = complex(1j)\tcomplex\t\n",
    "x = list((\"apple\", \"banana\", \"cherry\"))\tlist\t\n",
    "x = tuple((\"apple\", \"banana\", \"cherry\"))\ttuple\t\n",
    "x = range(6)\trange\t\n",
    "x = dict(name=\"John\", age=36)\tdict\t\n",
    "x = set((\"apple\", \"banana\", \"cherry\"))\tset\t\n",
    "x = frozenset((\"apple\", \"banana\", \"cherry\"))\tfrozenset\t\n",
    "x = bool(5)\tbool\t\n",
    "x = bytes(5)\tbytes\t\n",
    "x = bytearray(5)\tbytearray\t\n",
    "x = memoryview(bytes(5))\tmemoryview\n",
    "```"
   ]
  },
  {
   "cell_type": "markdown",
   "id": "f5376857",
   "metadata": {},
   "source": [
    "# Python Numbers"
   ]
  },
  {
   "cell_type": "code",
   "execution_count": null,
   "id": "28a6be4b",
   "metadata": {},
   "outputs": [],
   "source": [
    "x= 1\n",
    "y= 1.1\n",
    "z = 5j\n",
    "print(type(x))\n",
    "print(type(y))\n",
    "print(type(z))"
   ]
  },
  {
   "cell_type": "markdown",
   "id": "cfefedea",
   "metadata": {},
   "source": [
    "## see it works "
   ]
  }
 ],
 "metadata": {
  "kernelspec": {
   "display_name": "Python [conda env:base] *",
   "language": "python",
   "name": "conda-base-py"
  },
  "language_info": {
   "codemirror_mode": {
    "name": "ipython",
    "version": 3
   },
   "file_extension": ".py",
   "mimetype": "text/x-python",
   "name": "python",
   "nbconvert_exporter": "python",
   "pygments_lexer": "ipython3",
   "version": "3.12.4"
  }
 },
 "nbformat": 4,
 "nbformat_minor": 5
}
