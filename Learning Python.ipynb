{
 "cells": [
  {
   "cell_type": "markdown",
   "id": "c493c8e1-5afd-4aa0-8cba-2c0c0811080d",
   "metadata": {},
   "source": [
    "# Target for February 2025 "
   ]
  },
  {
   "cell_type": "markdown",
   "id": "b5d118db-44db-4c88-b435-7f9436758168",
   "metadata": {},
   "source": [
    "Learning <b>Python</b> "
   ]
  },
  {
   "cell_type": "code",
   "execution_count": 23,
   "id": "a9019a75-4657-4c5e-b1ae-59804486928c",
   "metadata": {},
   "outputs": [],
   "source": [
    "# Variables \n",
    "FirstName = \"Tanvir Rahman\"\n",
    "LastName = \"Tonoy\"\n",
    "age = 21\n",
    "DateOfBirth = \"30th of January ,2004\""
   ]
  },
  {
   "cell_type": "markdown",
   "id": "9d0fdb5c-9e32-4e93-8db2-048e72312bad",
   "metadata": {},
   "source": [
    "Now lets make a general line for those variables "
   ]
  },
  {
   "cell_type": "code",
   "execution_count": 41,
   "id": "9cb625f7-054a-410b-ae46-b23bea14235a",
   "metadata": {},
   "outputs": [
    {
     "name": "stdout",
     "output_type": "stream",
     "text": [
      "Tanvir Rahman Tonoy 21 30th of January ,2004\n"
     ]
    }
   ],
   "source": [
    "print(FirstName,LastName,age,DateOfBirth)"
   ]
  },
  {
   "cell_type": "code",
   "execution_count": null,
   "id": "7fc3f480-e5ae-4f3b-8311-f54ac113fa3e",
   "metadata": {},
   "outputs": [],
   "source": []
  }
 ],
 "metadata": {
  "kernelspec": {
   "display_name": "Python [conda env:base] *",
   "language": "python",
   "name": "conda-base-py"
  },
  "language_info": {
   "codemirror_mode": {
    "name": "ipython",
    "version": 3
   },
   "file_extension": ".py",
   "mimetype": "text/x-python",
   "name": "python",
   "nbconvert_exporter": "python",
   "pygments_lexer": "ipython3",
   "version": "3.12.4"
  }
 },
 "nbformat": 4,
 "nbformat_minor": 5
}
