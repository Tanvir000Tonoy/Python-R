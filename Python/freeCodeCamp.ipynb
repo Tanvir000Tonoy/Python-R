{
 "cells": [
  {
   "cell_type": "markdown",
   "id": "ecaa41d1-8a85-4b75-a3d8-10d2f13cc873",
   "metadata": {},
   "source": [
    "# Introduction"
   ]
  },
  {
   "cell_type": "markdown",
   "id": "c8725305-aebc-42c8-978e-f0cd72280324",
   "metadata": {},
   "source": [
    "Hello I'm Tanvir Rahman Tonoy! I love coding and making decisions from data. I want to learn Data Science. Currently I'm studying in Australia as an International Student. And now learning Python Programming Language for a better understanding of my further academic jargons."
   ]
  },
  {
   "cell_type": "markdown",
   "id": "b08cc569-dbaf-4c58-9203-396c532bc3dd",
   "metadata": {},
   "source": [
    "    [07.02.2025]"
   ]
  },
  {
   "cell_type": "code",
   "execution_count": 11,
   "id": "ef73bc8e-f22f-4948-a103-e4d11fd31a25",
   "metadata": {},
   "outputs": [
    {
     "name": "stdout",
     "output_type": "stream",
     "text": [
      "3.9.6 (default, Nov 11 2024, 03:15:38) \n",
      "[Clang 16.0.0 (clang-1600.0.26.6)]\n"
     ]
    }
   ],
   "source": [
    "# Learning Python\n",
    "# help()\n",
    "import sys\n",
    "print(sys.version)"
   ]
  },
  {
   "cell_type": "code",
   "execution_count": 13,
   "id": "29d0938a-c14b-4629-9301-329d79f92a6b",
   "metadata": {},
   "outputs": [
    {
     "data": {
      "text/plain": [
       "2"
      ]
     },
     "execution_count": 13,
     "metadata": {},
     "output_type": "execute_result"
    }
   ],
   "source": [
    "# Arithmatic operation\n",
    "1+1"
   ]
  },
  {
   "cell_type": "code",
   "execution_count": 14,
   "id": "a5fd67aa-b5bf-4282-8c5f-d2741ed3346b",
   "metadata": {},
   "outputs": [
    {
     "data": {
      "text/plain": [
       "0"
      ]
     },
     "execution_count": 14,
     "metadata": {},
     "output_type": "execute_result"
    }
   ],
   "source": [
    "1-1"
   ]
  },
  {
   "cell_type": "code",
   "execution_count": 15,
   "id": "ddbd39cd-9ba3-4b02-8d1c-ebe51fda56dc",
   "metadata": {},
   "outputs": [
    {
     "data": {
      "text/plain": [
       "1.0"
      ]
     },
     "execution_count": 15,
     "metadata": {},
     "output_type": "execute_result"
    }
   ],
   "source": [
    "1/1"
   ]
  },
  {
   "cell_type": "code",
   "execution_count": 16,
   "id": "5674d90e-767a-4301-aaca-04b15d23f44b",
   "metadata": {},
   "outputs": [
    {
     "data": {
      "text/plain": [
       "1"
      ]
     },
     "execution_count": 16,
     "metadata": {},
     "output_type": "execute_result"
    }
   ],
   "source": [
    "1*1"
   ]
  },
  {
   "cell_type": "code",
   "execution_count": null,
   "id": "4cea7bb6-bddf-4e44-bc80-2abef717e1fe",
   "metadata": {},
   "outputs": [],
   "source": []
  }
 ],
 "metadata": {
  "kernelspec": {
   "display_name": "Python 3 (ipykernel)",
   "language": "python",
   "name": "python3"
  },
  "language_info": {
   "codemirror_mode": {
    "name": "ipython",
    "version": 3
   },
   "file_extension": ".py",
   "mimetype": "text/x-python",
   "name": "python",
   "nbconvert_exporter": "python",
   "pygments_lexer": "ipython3",
   "version": "3.9.6"
  }
 },
 "nbformat": 4,
 "nbformat_minor": 5
}
