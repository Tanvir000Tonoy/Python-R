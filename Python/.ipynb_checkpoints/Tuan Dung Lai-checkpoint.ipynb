{
 "cells": [
  {
   "cell_type": "markdown",
   "id": "52d82145-64c4-4609-89ec-a3a85eb3fe50",
   "metadata": {},
   "source": [
    "A simple project done by Mr Tuan and I'm copying him so that I can learn python and apply my previous knowledge"
   ]
  },
  {
   "cell_type": "code",
   "execution_count": 1,
   "id": "f8f35459-bdfc-4051-89ae-61015cc17e28",
   "metadata": {},
   "outputs": [
    {
     "name": "stdout",
     "output_type": "stream",
     "text": [
      "pygame 2.6.1 (SDL 2.28.4, Python 3.12.4)\n",
      "Hello from the pygame community. https://www.pygame.org/contribute.html\n"
     ]
    },
    {
     "name": "stderr",
     "output_type": "stream",
     "text": [
      "2025-03-01 10:40:29.487 python[28012:508304] +[IMKClient subclass]: chose IMKClient_Modern\n"
     ]
    }
   ],
   "source": [
    "import pygame\n",
    "\n",
    "pygame.init()\n",
    "WIDTH = 400\n",
    "HEIGHT = 400\n",
    "window = pygame.display.set_mode((WIDTH,HEIGHT))\n",
    "clock = pygame.time.Clock()\n",
    "BLACK = (0,0,0)\n",
    "ORANGE = (255,165,0)\n",
    "RED = (255,0,0)\n",
    "running = True\n",
    "\n",
    "while running:\n",
    "    for event in pygame.event.get():\n",
    "        if event.type == pygame.QUIT:\n",
    "            running = False\n",
    "    window.fill(BLACK)\n",
    "    pygame.display.flip()\n",
    "    clock.tick(60)\n",
    "\n",
    "pygame.quit()"
   ]
  },
  {
   "cell_type": "code",
   "execution_count": null,
   "id": "b70e19f0-abcd-4030-8992-39f38302940a",
   "metadata": {},
   "outputs": [],
   "source": []
  }
 ],
 "metadata": {
  "kernelspec": {
   "display_name": "Python [conda env:base] *",
   "language": "python",
   "name": "conda-base-py"
  },
  "language_info": {
   "codemirror_mode": {
    "name": "ipython",
    "version": 3
   },
   "file_extension": ".py",
   "mimetype": "text/x-python",
   "name": "python",
   "nbconvert_exporter": "python",
   "pygments_lexer": "ipython3",
   "version": "3.12.4"
  }
 },
 "nbformat": 4,
 "nbformat_minor": 5
}
