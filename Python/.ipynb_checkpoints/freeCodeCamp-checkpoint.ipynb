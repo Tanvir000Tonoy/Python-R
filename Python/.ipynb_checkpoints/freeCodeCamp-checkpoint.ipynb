{
 "cells": [
  {
   "cell_type": "markdown",
   "id": "ecaa41d1-8a85-4b75-a3d8-10d2f13cc873",
   "metadata": {},
   "source": [
    "# Introduction"
   ]
  },
  {
   "cell_type": "markdown",
   "id": "c8725305-aebc-42c8-978e-f0cd72280324",
   "metadata": {},
   "source": [
    "Hello I'm Tanvir Rahman Tonoy! I love coding. I want to learn Data Science. Currently I'm studying in Swinburne University of Technology majoring in Data Science. I wanted to learn python for a long time. And Now I'm here to embody all the ideas. Before that, Let me recap all the basics. "
   ]
  },
  {
   "cell_type": "markdown",
   "id": "b08cc569-dbaf-4c58-9203-396c532bc3dd",
   "metadata": {},
   "source": [
    "    [07.02.2025]"
   ]
  },
  {
   "cell_type": "code",
   "execution_count": 24,
   "id": "a882ff87-ad05-44ea-bee5-0e66fd49fe8f",
   "metadata": {},
   "outputs": [
    {
     "name": "stdout",
     "output_type": "stream",
     "text": [
      "3.9.6 (default, Nov 11 2024, 03:15:38) \n",
      "[Clang 16.0.0 (clang-1600.0.26.6)]\n",
      "Hello world\n"
     ]
    }
   ],
   "source": [
    "# Learning Python\n",
    "# help()\n",
    "import sys\n",
    "print(sys.version)\n",
    "\n",
    "# Hello World ! \n",
    "print('Hello world')"
   ]
  },
  {
   "cell_type": "code",
   "execution_count": 25,
   "id": "9cb208ca-3f69-4988-9086-808f71f52df2",
   "metadata": {},
   "outputs": [
    {
     "data": {
      "text/plain": [
       "4"
      ]
     },
     "execution_count": 25,
     "metadata": {},
     "output_type": "execute_result"
    }
   ],
   "source": [
    "\n",
    "# The Basics \n",
    "2+2 # sim[le addition"
   ]
  },
  {
   "cell_type": "code",
   "execution_count": 26,
   "id": "d8fcde0a-c774-4c96-b96e-4074f9f03d4c",
   "metadata": {},
   "outputs": [
    {
     "data": {
      "text/plain": [
       "1"
      ]
     },
     "execution_count": 26,
     "metadata": {},
     "output_type": "execute_result"
    }
   ],
   "source": [
    "2-1 # simple subtraction"
   ]
  },
  {
   "cell_type": "code",
   "execution_count": 27,
   "id": "f8fe4221-b597-4ac1-b284-199ef51fb474",
   "metadata": {},
   "outputs": [
    {
     "data": {
      "text/plain": [
       "10"
      ]
     },
     "execution_count": 27,
     "metadata": {},
     "output_type": "execute_result"
    }
   ],
   "source": [
    "2*5 # simple multiplication"
   ]
  },
  {
   "cell_type": "code",
   "execution_count": 28,
   "id": "528c6b53-5d39-441e-b3ef-987b1a9e04c7",
   "metadata": {},
   "outputs": [
    {
     "data": {
      "text/plain": [
       "2.6666666666666665"
      ]
     },
     "execution_count": 28,
     "metadata": {},
     "output_type": "execute_result"
    }
   ],
   "source": [
    "8/3 # simple divition"
   ]
  },
  {
   "cell_type": "code",
   "execution_count": 30,
   "id": "51f82ba0-ba43-4fe0-b882-f63aa8d606ed",
   "metadata": {},
   "outputs": [
    {
     "data": {
      "text/plain": [
       "0.3333333333333333"
      ]
     },
     "execution_count": 30,
     "metadata": {},
     "output_type": "execute_result"
    }
   ],
   "source": [
    "# division and modulus \n",
    "3/9 #"
   ]
  },
  {
   "cell_type": "code",
   "execution_count": 33,
   "id": "2c3ce0f2-1a9f-40af-b976-c7f15661e9c3",
   "metadata": {},
   "outputs": [
    {
     "data": {
      "text/plain": [
       "3"
      ]
     },
     "execution_count": 33,
     "metadata": {},
     "output_type": "execute_result"
    }
   ],
   "source": [
    "# floor divition\n",
    "100//33"
   ]
  },
  {
   "cell_type": "code",
   "execution_count": 34,
   "id": "962fb784-9aa1-42d7-9a8f-713070102360",
   "metadata": {},
   "outputs": [
    {
     "data": {
      "text/plain": [
       "1"
      ]
     },
     "execution_count": 34,
     "metadata": {},
     "output_type": "execute_result"
    }
   ],
   "source": [
    "# reminders \n",
    "100%33"
   ]
  },
  {
   "cell_type": "code",
   "execution_count": 37,
   "id": "d6752d87-c489-4499-ab77-72216c6a56e8",
   "metadata": {},
   "outputs": [
    {
     "name": "stdout",
     "output_type": "stream",
     "text": [
      "3\n",
      "1\n"
     ]
    }
   ],
   "source": [
    "# divition modulus \n",
    "quotient,reminder =  divmod(100,33)\n",
    "print(quotient)\n",
    "print(reminder)"
   ]
  }
 ],
 "metadata": {
  "kernelspec": {
   "display_name": "Python [conda env:base] *",
   "language": "python",
   "name": "conda-base-py"
  },
  "language_info": {
   "codemirror_mode": {
    "name": "ipython",
    "version": 3
   },
   "file_extension": ".py",
   "mimetype": "text/x-python",
   "name": "python",
   "nbconvert_exporter": "python",
   "pygments_lexer": "ipython3",
   "version": "3.12.4"
  }
 },
 "nbformat": 4,
 "nbformat_minor": 5
}
