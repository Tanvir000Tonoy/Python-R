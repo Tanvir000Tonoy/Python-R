{
 "cells": [
  {
   "cell_type": "markdown",
   "id": "ecaa41d1-8a85-4b75-a3d8-10d2f13cc873",
   "metadata": {},
   "source": [
    "# Introduction"
   ]
  },
  {
   "cell_type": "markdown",
   "id": "c8725305-aebc-42c8-978e-f0cd72280324",
   "metadata": {},
   "source": [
    "Hello I'm Tanvir Rahman Tonoy! I love coding. I want to learn Data Science. Currently I'm studying in Swinburne University of Technology majoring in Data Science. I wanted to learn python for a long time. And Now I'm here to embody all the ideas. Before that, Let me recap all the basics. "
   ]
  },
  {
   "cell_type": "markdown",
   "id": "b08cc569-dbaf-4c58-9203-396c532bc3dd",
   "metadata": {},
   "source": [
    "    [07.02.2025]"
   ]
  },
  {
   "cell_type": "code",
   "execution_count": 5,
   "id": "a882ff87-ad05-44ea-bee5-0e66fd49fe8f",
   "metadata": {},
   "outputs": [
    {
     "name": "stdout",
     "output_type": "stream",
     "text": [
      "3.12.4 | packaged by Anaconda, Inc. | (main, Jun 18 2024, 10:07:17) [Clang 14.0.6 ]\n",
      "Hello world\n"
     ]
    }
   ],
   "source": [
    "# Learning Python\n",
    "# help()\n",
    "import sys\n",
    "print(sys.version)\n",
    "\n",
    "# Hello World ! \n",
    "print('Hello world')"
   ]
  },
  {
   "cell_type": "code",
   "execution_count": 7,
   "id": "9cb208ca-3f69-4988-9086-808f71f52df2",
   "metadata": {},
   "outputs": [
    {
     "data": {
      "text/plain": [
       "4"
      ]
     },
     "execution_count": 7,
     "metadata": {},
     "output_type": "execute_result"
    }
   ],
   "source": [
    "\n",
    "# The Basics \n",
    "2+2 # sim[le addition"
   ]
  },
  {
   "cell_type": "code",
   "execution_count": 9,
   "id": "d8fcde0a-c774-4c96-b96e-4074f9f03d4c",
   "metadata": {},
   "outputs": [
    {
     "data": {
      "text/plain": [
       "1"
      ]
     },
     "execution_count": 9,
     "metadata": {},
     "output_type": "execute_result"
    }
   ],
   "source": [
    "2-1 # simple subtraction"
   ]
  },
  {
   "cell_type": "code",
   "execution_count": 11,
   "id": "f8fe4221-b597-4ac1-b284-199ef51fb474",
   "metadata": {},
   "outputs": [
    {
     "data": {
      "text/plain": [
       "10"
      ]
     },
     "execution_count": 11,
     "metadata": {},
     "output_type": "execute_result"
    }
   ],
   "source": [
    "2*5 # simple multiplication"
   ]
  },
  {
   "cell_type": "code",
   "execution_count": 13,
   "id": "528c6b53-5d39-441e-b3ef-987b1a9e04c7",
   "metadata": {},
   "outputs": [
    {
     "data": {
      "text/plain": [
       "2.6666666666666665"
      ]
     },
     "execution_count": 13,
     "metadata": {},
     "output_type": "execute_result"
    }
   ],
   "source": [
    "8/3 # simple divition"
   ]
  },
  {
   "cell_type": "code",
   "execution_count": 15,
   "id": "51f82ba0-ba43-4fe0-b882-f63aa8d606ed",
   "metadata": {},
   "outputs": [
    {
     "data": {
      "text/plain": [
       "0.3333333333333333"
      ]
     },
     "execution_count": 15,
     "metadata": {},
     "output_type": "execute_result"
    }
   ],
   "source": [
    "# division and modulus \n",
    "3/9 #"
   ]
  },
  {
   "cell_type": "code",
   "execution_count": 17,
   "id": "2c3ce0f2-1a9f-40af-b976-c7f15661e9c3",
   "metadata": {},
   "outputs": [
    {
     "data": {
      "text/plain": [
       "3"
      ]
     },
     "execution_count": 17,
     "metadata": {},
     "output_type": "execute_result"
    }
   ],
   "source": [
    "# floor divition\n",
    "100//33"
   ]
  },
  {
   "cell_type": "code",
   "execution_count": 19,
   "id": "962fb784-9aa1-42d7-9a8f-713070102360",
   "metadata": {},
   "outputs": [
    {
     "data": {
      "text/plain": [
       "1"
      ]
     },
     "execution_count": 19,
     "metadata": {},
     "output_type": "execute_result"
    }
   ],
   "source": [
    "# reminders \n",
    "100%33"
   ]
  },
  {
   "cell_type": "code",
   "execution_count": 23,
   "id": "d6752d87-c489-4499-ab77-72216c6a56e8",
   "metadata": {},
   "outputs": [
    {
     "name": "stdout",
     "output_type": "stream",
     "text": [
      "3\n",
      "1\n"
     ]
    }
   ],
   "source": [
    "# divition modulus \n",
    "quotient,reminder =  divmod(100,33)\n",
    "print(quotient)\n",
    "print(reminder)"
   ]
  },
  {
   "cell_type": "markdown",
   "id": "0c53c948-1371-42f8-b0d8-0d7feca10e12",
   "metadata": {},
   "source": [
    "# Retrying the process of learning python"
   ]
  },
  {
   "cell_type": "code",
   "execution_count": 1,
   "id": "2af2a5ff-91a6-4bfd-8a8f-cec27e7648cf",
   "metadata": {},
   "outputs": [
    {
     "data": {
      "text/plain": [
       "625"
      ]
     },
     "execution_count": 1,
     "metadata": {},
     "output_type": "execute_result"
    }
   ],
   "source": [
    "# Exponential \n",
    "5**4"
   ]
  },
  {
   "cell_type": "code",
   "execution_count": 5,
   "id": "e501ea74-fe40-4712-a6ab-e9d8f301c9d8",
   "metadata": {},
   "outputs": [
    {
     "data": {
      "text/plain": [
       "625"
      ]
     },
     "execution_count": 5,
     "metadata": {},
     "output_type": "execute_result"
    }
   ],
   "source": [
    "# we can also do the same with pow() function \n",
    "pow(5,4)"
   ]
  },
  {
   "cell_type": "code",
   "execution_count": 7,
   "id": "5be4eecc-644f-4b32-a8a3-d222162affbd",
   "metadata": {},
   "outputs": [
    {
     "data": {
      "text/plain": [
       "(2, 1)"
      ]
     },
     "execution_count": 7,
     "metadata": {},
     "output_type": "execute_result"
    }
   ],
   "source": [
    "# divmod\n",
    "divmod(5,2)"
   ]
  },
  {
   "cell_type": "code",
   "execution_count": 29,
   "id": "aa55a495-18be-4b30-832a-46f75c08408b",
   "metadata": {},
   "outputs": [
    {
     "data": {
      "text/plain": [
       "2.66"
      ]
     },
     "execution_count": 29,
     "metadata": {},
     "output_type": "execute_result"
    }
   ],
   "source": [
    "a = 2.6648\n",
    "round(a,2)"
   ]
  },
  {
   "cell_type": "code",
   "execution_count": null,
   "id": "b92ff3e4-ee99-443e-8d1a-b4e24bbe69ff",
   "metadata": {},
   "outputs": [],
   "source": []
  },
  {
   "cell_type": "code",
   "execution_count": 33,
   "id": "0b5f44b7-3832-4f4a-8866-ebdbcf8d3fd4",
   "metadata": {},
   "outputs": [
    {
     "data": {
      "text/plain": [
       "20000000"
      ]
     },
     "execution_count": 33,
     "metadata": {},
     "output_type": "execute_result"
    }
   ],
   "source": [
    "# lets represent big numbers \n",
    "a = 4_000_000\n",
    "a*5"
   ]
  },
  {
   "cell_type": "code",
   "execution_count": 45,
   "id": "4052893b-bdd4-4b60-833c-c02cfbb99f0b",
   "metadata": {},
   "outputs": [
    {
     "data": {
      "text/plain": [
       "4000110"
      ]
     },
     "execution_count": 45,
     "metadata": {},
     "output_type": "execute_result"
    }
   ],
   "source": [
    "b = 10 \n",
    "_ = a+b\n",
    "c = 100 \n",
    "c + _ "
   ]
  },
  {
   "cell_type": "markdown",
   "id": "239e02dc-b110-41ec-bd19-02f05193a1ee",
   "metadata": {},
   "source": [
    "# Strings || Learning strings in python :) "
   ]
  },
  {
   "cell_type": "code",
   "execution_count": 49,
   "id": "da885862-ea19-4ad2-afae-adc2e7620e2d",
   "metadata": {},
   "outputs": [],
   "source": [
    "string = \"Hello I'm Tanvir\""
   ]
  },
  {
   "cell_type": "code",
   "execution_count": 53,
   "id": "7776efd4-5acd-4ad5-9b94-8cd2d9edac2e",
   "metadata": {},
   "outputs": [
    {
     "data": {
      "text/plain": [
       "\"Hello i'm tanvir\""
      ]
     },
     "execution_count": 53,
     "metadata": {},
     "output_type": "execute_result"
    }
   ],
   "source": [
    "string.capitalize()"
   ]
  },
  {
   "cell_type": "code",
   "execution_count": 57,
   "id": "c0c11336-6af2-444c-b645-3a6163a36759",
   "metadata": {},
   "outputs": [
    {
     "data": {
      "text/plain": [
       "\"HELLO I'M TANVIR\""
      ]
     },
     "execution_count": 57,
     "metadata": {},
     "output_type": "execute_result"
    }
   ],
   "source": [
    "string.upper()"
   ]
  },
  {
   "cell_type": "code",
   "execution_count": 59,
   "id": "23d5b9c6-1a7a-4328-9a79-620d67d2e53c",
   "metadata": {},
   "outputs": [
    {
     "data": {
      "text/plain": [
       "\"hello i'm tanvir\""
      ]
     },
     "execution_count": 59,
     "metadata": {},
     "output_type": "execute_result"
    }
   ],
   "source": [
    "string.lower()"
   ]
  },
  {
   "cell_type": "code",
   "execution_count": 83,
   "id": "94f74d06-3b17-4d65-a92c-cf88d8edaf91",
   "metadata": {},
   "outputs": [
    {
     "data": {
      "text/plain": [
       "'Hello I\\'m Tonoy \\n \" Tanvir\" Too'"
      ]
     },
     "execution_count": 83,
     "metadata": {},
     "output_type": "execute_result"
    }
   ],
   "source": [
    "# escape notation : \\\"\n",
    "'Hello I\\'m Tonoy \\n \" Tanvir\" Too' "
   ]
  },
  {
   "cell_type": "code",
   "execution_count": 85,
   "id": "26974e40-3f51-4b73-8ea0-b29fbef84c15",
   "metadata": {},
   "outputs": [
    {
     "data": {
      "text/plain": [
       "\"hello \\n I'm someone \\n WOW\""
      ]
     },
     "execution_count": 85,
     "metadata": {},
     "output_type": "execute_result"
    }
   ],
   "source": [
    "\"hello \\n I'm someone \\n WOW\""
   ]
  },
  {
   "cell_type": "code",
   "execution_count": 87,
   "id": "369b14ce-a95d-44b2-bab3-60d88832bc51",
   "metadata": {},
   "outputs": [
    {
     "ename": "SyntaxError",
     "evalue": "incomplete input (2193093756.py, line 1)",
     "output_type": "error",
     "traceback": [
      "\u001b[0;36m  Cell \u001b[0;32mIn[87], line 1\u001b[0;36m\u001b[0m\n\u001b[0;31m    print(\"\"\"\u001b[0m\n\u001b[0m          ^\u001b[0m\n\u001b[0;31mSyntaxError\u001b[0m\u001b[0;31m:\u001b[0m incomplete input\n"
     ]
    }
   ],
   "source": [
    "print(\"\"\"\n",
    "HELLO , I'M TONOY \n",
    "I LOVE CODING \n",
    "WOW \n",
    "\"\"\")"
   ]
  },
  {
   "cell_type": "code",
   "execution_count": null,
   "id": "39aa8787-e020-4610-82fe-c67e22610a28",
   "metadata": {},
   "outputs": [],
   "source": []
  },
  {
   "cell_type": "code",
   "execution_count": null,
   "id": "3e34f55c-61fc-412d-89c7-c5a50cb09a96",
   "metadata": {},
   "outputs": [],
   "source": []
  },
  {
   "cell_type": "code",
   "execution_count": null,
   "id": "bd1b993e-e724-4a56-bebe-73456743f2b5",
   "metadata": {},
   "outputs": [],
   "source": []
  },
  {
   "cell_type": "code",
   "execution_count": null,
   "id": "e78713d2-2b9c-4c5d-a512-bbe7db33b53d",
   "metadata": {},
   "outputs": [],
   "source": []
  },
  {
   "cell_type": "code",
   "execution_count": null,
   "id": "f6b23276-c5a6-480f-a57e-03146b5da251",
   "metadata": {},
   "outputs": [],
   "source": []
  },
  {
   "cell_type": "code",
   "execution_count": null,
   "id": "abe5e6f5-1d63-4a19-8e1c-45ad421f2d53",
   "metadata": {},
   "outputs": [],
   "source": []
  },
  {
   "cell_type": "code",
   "execution_count": null,
   "id": "2db178e0-82ae-45c5-9786-b9b34e751417",
   "metadata": {},
   "outputs": [],
   "source": []
  },
  {
   "cell_type": "code",
   "execution_count": null,
   "id": "f8b121e6-ec91-4c4a-9fae-f11f5b139c47",
   "metadata": {},
   "outputs": [],
   "source": []
  },
  {
   "cell_type": "code",
   "execution_count": null,
   "id": "30de601b-97e6-440c-bf5f-0244934a0d90",
   "metadata": {},
   "outputs": [],
   "source": []
  },
  {
   "cell_type": "code",
   "execution_count": null,
   "id": "6c3552e7-d4e4-469a-b108-ba33ea24375e",
   "metadata": {},
   "outputs": [],
   "source": []
  }
 ],
 "metadata": {
  "kernelspec": {
   "display_name": "Python [conda env:base] *",
   "language": "python",
   "name": "conda-base-py"
  },
  "language_info": {
   "codemirror_mode": {
    "name": "ipython",
    "version": 3
   },
   "file_extension": ".py",
   "mimetype": "text/x-python",
   "name": "python",
   "nbconvert_exporter": "python",
   "pygments_lexer": "ipython3",
   "version": "3.12.4"
  }
 },
 "nbformat": 4,
 "nbformat_minor": 5
}
