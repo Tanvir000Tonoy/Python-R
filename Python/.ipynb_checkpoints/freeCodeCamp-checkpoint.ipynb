{
 "cells": [
  {
   "cell_type": "markdown",
   "id": "ecaa41d1-8a85-4b75-a3d8-10d2f13cc873",
   "metadata": {},
   "source": [
    "# Introduction"
   ]
  },
  {
   "cell_type": "markdown",
   "id": "c8725305-aebc-42c8-978e-f0cd72280324",
   "metadata": {},
   "source": [
    "Hello I'm Tanvir Rahman Tonoy! I love coding. I want to learn Data Science. Currently I'm studying in Swinburne University of Technology majoring in Data Science. I wanted to learn python for a long time. And Now I'm here to embody all the ideas. Before that, Let me recap all the basics. "
   ]
  },
  {
   "cell_type": "markdown",
   "id": "b08cc569-dbaf-4c58-9203-396c532bc3dd",
   "metadata": {},
   "source": [
    "    [07.02.2025]"
   ]
  },
  {
   "cell_type": "code",
   "execution_count": 4,
   "id": "a882ff87-ad05-44ea-bee5-0e66fd49fe8f",
   "metadata": {},
   "outputs": [
    {
     "name": "stdout",
     "output_type": "stream",
     "text": [
      "3.12.4 | packaged by Anaconda, Inc. | (main, Jun 18 2024, 10:07:17) [Clang 14.0.6 ]\n",
      "Hello world\n"
     ]
    }
   ],
   "source": [
    "# Learning Python\n",
    "# help()\n",
    "import sys\n",
    "print(sys.version)\n",
    "\n",
    "# Hello World ! \n",
    "print('Hello world')"
   ]
  },
  {
   "cell_type": "code",
   "execution_count": 5,
   "id": "9cb208ca-3f69-4988-9086-808f71f52df2",
   "metadata": {},
   "outputs": [
    {
     "data": {
      "text/plain": [
       "4"
      ]
     },
     "execution_count": 5,
     "metadata": {},
     "output_type": "execute_result"
    }
   ],
   "source": [
    "\n",
    "# The Basics \n",
    "2+2 # sim[le addition"
   ]
  },
  {
   "cell_type": "code",
   "execution_count": 6,
   "id": "d8fcde0a-c774-4c96-b96e-4074f9f03d4c",
   "metadata": {},
   "outputs": [
    {
     "data": {
      "text/plain": [
       "1"
      ]
     },
     "execution_count": 6,
     "metadata": {},
     "output_type": "execute_result"
    }
   ],
   "source": [
    "2-1 # simple subtraction"
   ]
  },
  {
   "cell_type": "code",
   "execution_count": 7,
   "id": "f8fe4221-b597-4ac1-b284-199ef51fb474",
   "metadata": {},
   "outputs": [
    {
     "data": {
      "text/plain": [
       "10"
      ]
     },
     "execution_count": 7,
     "metadata": {},
     "output_type": "execute_result"
    }
   ],
   "source": [
    "2*5 # simple multiplication"
   ]
  },
  {
   "cell_type": "code",
   "execution_count": 8,
   "id": "528c6b53-5d39-441e-b3ef-987b1a9e04c7",
   "metadata": {},
   "outputs": [
    {
     "data": {
      "text/plain": [
       "2.6666666666666665"
      ]
     },
     "execution_count": 8,
     "metadata": {},
     "output_type": "execute_result"
    }
   ],
   "source": [
    "8/3 # simple divition"
   ]
  },
  {
   "cell_type": "code",
   "execution_count": 9,
   "id": "51f82ba0-ba43-4fe0-b882-f63aa8d606ed",
   "metadata": {},
   "outputs": [
    {
     "data": {
      "text/plain": [
       "0.3333333333333333"
      ]
     },
     "execution_count": 9,
     "metadata": {},
     "output_type": "execute_result"
    }
   ],
   "source": [
    "# division and modulus \n",
    "3/9 #"
   ]
  },
  {
   "cell_type": "code",
   "execution_count": 10,
   "id": "2c3ce0f2-1a9f-40af-b976-c7f15661e9c3",
   "metadata": {},
   "outputs": [
    {
     "data": {
      "text/plain": [
       "3"
      ]
     },
     "execution_count": 10,
     "metadata": {},
     "output_type": "execute_result"
    }
   ],
   "source": [
    "# floor divition\n",
    "100//33"
   ]
  },
  {
   "cell_type": "code",
   "execution_count": 11,
   "id": "962fb784-9aa1-42d7-9a8f-713070102360",
   "metadata": {},
   "outputs": [
    {
     "data": {
      "text/plain": [
       "1"
      ]
     },
     "execution_count": 11,
     "metadata": {},
     "output_type": "execute_result"
    }
   ],
   "source": [
    "# reminders \n",
    "100%33"
   ]
  },
  {
   "cell_type": "code",
   "execution_count": 12,
   "id": "d6752d87-c489-4499-ab77-72216c6a56e8",
   "metadata": {},
   "outputs": [
    {
     "name": "stdout",
     "output_type": "stream",
     "text": [
      "3\n",
      "1\n"
     ]
    }
   ],
   "source": [
    "# divition modulus \n",
    "quotient,reminder =  divmod(100,33)\n",
    "print(quotient)\n",
    "print(reminder)"
   ]
  },
  {
   "cell_type": "markdown",
   "id": "0c53c948-1371-42f8-b0d8-0d7feca10e12",
   "metadata": {},
   "source": [
    "# Retrying the process of learning python"
   ]
  },
  {
   "cell_type": "code",
   "execution_count": 14,
   "id": "2af2a5ff-91a6-4bfd-8a8f-cec27e7648cf",
   "metadata": {},
   "outputs": [
    {
     "data": {
      "text/plain": [
       "625"
      ]
     },
     "execution_count": 14,
     "metadata": {},
     "output_type": "execute_result"
    }
   ],
   "source": [
    "# Exponential \n",
    "5**4"
   ]
  },
  {
   "cell_type": "code",
   "execution_count": 15,
   "id": "e501ea74-fe40-4712-a6ab-e9d8f301c9d8",
   "metadata": {},
   "outputs": [
    {
     "data": {
      "text/plain": [
       "625"
      ]
     },
     "execution_count": 15,
     "metadata": {},
     "output_type": "execute_result"
    }
   ],
   "source": [
    "# we can also do the same with pow() function \n",
    "pow(5,4)"
   ]
  },
  {
   "cell_type": "code",
   "execution_count": 16,
   "id": "5be4eecc-644f-4b32-a8a3-d222162affbd",
   "metadata": {},
   "outputs": [
    {
     "data": {
      "text/plain": [
       "(2, 1)"
      ]
     },
     "execution_count": 16,
     "metadata": {},
     "output_type": "execute_result"
    }
   ],
   "source": [
    "# divmod\n",
    "divmod(5,2)"
   ]
  },
  {
   "cell_type": "code",
   "execution_count": 17,
   "id": "aa55a495-18be-4b30-832a-46f75c08408b",
   "metadata": {},
   "outputs": [
    {
     "data": {
      "text/plain": [
       "2.66"
      ]
     },
     "execution_count": 17,
     "metadata": {},
     "output_type": "execute_result"
    }
   ],
   "source": [
    "a = 2.6648\n",
    "round(a,2)"
   ]
  },
  {
   "cell_type": "code",
   "execution_count": null,
   "id": "b92ff3e4-ee99-443e-8d1a-b4e24bbe69ff",
   "metadata": {},
   "outputs": [],
   "source": []
  },
  {
   "cell_type": "code",
   "execution_count": 18,
   "id": "0b5f44b7-3832-4f4a-8866-ebdbcf8d3fd4",
   "metadata": {},
   "outputs": [
    {
     "data": {
      "text/plain": [
       "20000000"
      ]
     },
     "execution_count": 18,
     "metadata": {},
     "output_type": "execute_result"
    }
   ],
   "source": [
    "# lets represent big numbers \n",
    "a = 4_000_000\n",
    "a*5"
   ]
  },
  {
   "cell_type": "code",
   "execution_count": 19,
   "id": "4052893b-bdd4-4b60-833c-c02cfbb99f0b",
   "metadata": {},
   "outputs": [
    {
     "data": {
      "text/plain": [
       "4000110"
      ]
     },
     "execution_count": 19,
     "metadata": {},
     "output_type": "execute_result"
    }
   ],
   "source": [
    "b = 10 \n",
    "_ = a+b\n",
    "c = 100 \n",
    "c + _ "
   ]
  },
  {
   "cell_type": "markdown",
   "id": "239e02dc-b110-41ec-bd19-02f05193a1ee",
   "metadata": {},
   "source": [
    "# Strings || Learning strings in python :) "
   ]
  },
  {
   "cell_type": "code",
   "execution_count": 21,
   "id": "da885862-ea19-4ad2-afae-adc2e7620e2d",
   "metadata": {},
   "outputs": [],
   "source": [
    "string = \"Hello I'm Tanvir\""
   ]
  },
  {
   "cell_type": "code",
   "execution_count": 22,
   "id": "7776efd4-5acd-4ad5-9b94-8cd2d9edac2e",
   "metadata": {},
   "outputs": [
    {
     "data": {
      "text/plain": [
       "\"Hello i'm tanvir\""
      ]
     },
     "execution_count": 22,
     "metadata": {},
     "output_type": "execute_result"
    }
   ],
   "source": [
    "string.capitalize()"
   ]
  },
  {
   "cell_type": "code",
   "execution_count": 23,
   "id": "c0c11336-6af2-444c-b645-3a6163a36759",
   "metadata": {},
   "outputs": [
    {
     "data": {
      "text/plain": [
       "\"HELLO I'M TANVIR\""
      ]
     },
     "execution_count": 23,
     "metadata": {},
     "output_type": "execute_result"
    }
   ],
   "source": [
    "string.upper()"
   ]
  },
  {
   "cell_type": "code",
   "execution_count": 24,
   "id": "23d5b9c6-1a7a-4328-9a79-620d67d2e53c",
   "metadata": {},
   "outputs": [
    {
     "data": {
      "text/plain": [
       "\"hello i'm tanvir\""
      ]
     },
     "execution_count": 24,
     "metadata": {},
     "output_type": "execute_result"
    }
   ],
   "source": [
    "string.lower()"
   ]
  },
  {
   "cell_type": "code",
   "execution_count": 25,
   "id": "94f74d06-3b17-4d65-a92c-cf88d8edaf91",
   "metadata": {},
   "outputs": [
    {
     "data": {
      "text/plain": [
       "'Hello I\\'m Tonoy \\n \" Tanvir\" Too'"
      ]
     },
     "execution_count": 25,
     "metadata": {},
     "output_type": "execute_result"
    }
   ],
   "source": [
    "# escape notation : \\\"\n",
    "'Hello I\\'m Tonoy \\n \" Tanvir\" Too' "
   ]
  },
  {
   "cell_type": "code",
   "execution_count": 26,
   "id": "26974e40-3f51-4b73-8ea0-b29fbef84c15",
   "metadata": {},
   "outputs": [
    {
     "data": {
      "text/plain": [
       "\"hello \\n I'm someone \\n WOW\""
      ]
     },
     "execution_count": 26,
     "metadata": {},
     "output_type": "execute_result"
    }
   ],
   "source": [
    "\"hello \\n I'm someone \\n WOW\""
   ]
  },
  {
   "cell_type": "code",
   "execution_count": 27,
   "id": "369b14ce-a95d-44b2-bab3-60d88832bc51",
   "metadata": {},
   "outputs": [
    {
     "name": "stdout",
     "output_type": "stream",
     "text": [
      "\n",
      "HELLO , I'M TONOY \n",
      "I LOVE CODING \n",
      "WOW \n",
      "\n"
     ]
    }
   ],
   "source": [
    "print(\"\"\"\n",
    "HELLO , I'M TONOY \n",
    "I LOVE CODING \n",
    "WOW \n",
    "\"\"\")\n",
    "# this is called string literals "
   ]
  },
  {
   "cell_type": "code",
   "execution_count": 28,
   "id": "74a8f509-f79d-4b7f-9e72-b32e63e63b19",
   "metadata": {},
   "outputs": [
    {
     "name": "stdout",
     "output_type": "stream",
     "text": [
      "OnuOnuOnumate\n"
     ]
    }
   ],
   "source": [
    "# arithmetic operation in string \n",
    "print(3*\"Onu\"+\"mate\") "
   ]
  },
  {
   "cell_type": "code",
   "execution_count": 29,
   "id": "6199876e-f56e-4936-ae0b-dc142a52022f",
   "metadata": {},
   "outputs": [
    {
     "data": {
      "text/plain": [
       "'helloworld'"
      ]
     },
     "execution_count": 29,
     "metadata": {},
     "output_type": "execute_result"
    }
   ],
   "source": [
    "\"hello\" \"world\" # only works when its literals not variables "
   ]
  },
  {
   "cell_type": "code",
   "execution_count": 30,
   "id": "9b07d621-a08a-434d-829e-ea59c44194b3",
   "metadata": {},
   "outputs": [
    {
     "name": "stdout",
     "output_type": "stream",
     "text": [
      "+---+---+---+---+\n",
      "| 1 | 2 | 3 | 4 |\n",
      "+---+---+---+---+\n"
     ]
    }
   ],
   "source": [
    "print(\"\"\"+---+---+---+---+\n",
    "| 1 | 2 | 3 | 4 |\n",
    "+---+---+---+---+\"\"\")"
   ]
  },
  {
   "cell_type": "code",
   "execution_count": 31,
   "id": "328cc8df-dd2e-46b7-b882-56137ff97115",
   "metadata": {},
   "outputs": [
    {
     "name": "stdout",
     "output_type": "stream",
     "text": [
      "0\n"
     ]
    }
   ],
   "source": [
    "x = \"012345678\"\n",
    "print(x[0:1])\n",
    "#  it will work like \n",
    "# print(x[include : Exclude ])\n"
   ]
  },
  {
   "cell_type": "code",
   "execution_count": 32,
   "id": "1f2ccafe-d163-46a2-9d62-58c6b1bee0fa",
   "metadata": {},
   "outputs": [
    {
     "data": {
      "text/plain": [
       "'912345678'"
      ]
     },
     "execution_count": 32,
     "metadata": {},
     "output_type": "execute_result"
    }
   ],
   "source": [
    "\"9\" + x[1:]"
   ]
  },
  {
   "cell_type": "code",
   "execution_count": 33,
   "id": "637391a8-00dd-4a43-b1ea-f36f3d1038e0",
   "metadata": {},
   "outputs": [
    {
     "data": {
      "text/plain": [
       "9"
      ]
     },
     "execution_count": 33,
     "metadata": {},
     "output_type": "execute_result"
    }
   ],
   "source": [
    "len(x)"
   ]
  },
  {
   "cell_type": "markdown",
   "id": "2d4ca489-2c53-4fc6-8de9-97ef8adf6e27",
   "metadata": {},
   "source": [
    "# Lists in python"
   ]
  },
  {
   "cell_type": "code",
   "execution_count": 35,
   "id": "da908871-cd09-4629-9f9b-3338b2c67c74",
   "metadata": {},
   "outputs": [
    {
     "name": "stdout",
     "output_type": "stream",
     "text": [
      "[1, 8, 27, 64, 125, 216, 343, 512, 729]\n"
     ]
    }
   ],
   "source": [
    "# list{array? } , dictionaries , tuple , set \n",
    "before_cube = [ 1,2,3,4,5,6,7,8,9]\n",
    "for x in range(len(before_cube)):\n",
    "    before_cube[x] = before_cube[x]**3\n",
    "after_cube = before_cube\n",
    "print(after_cube)"
   ]
  },
  {
   "cell_type": "code",
   "execution_count": 36,
   "id": "527b6167-9509-4ecb-b032-c5eb9b2c9cfe",
   "metadata": {},
   "outputs": [],
   "source": [
    "# concatinating two list \n",
    "y = [0,1,2,3,4,5,6,7,8,9,10] + after_cube"
   ]
  },
  {
   "cell_type": "code",
   "execution_count": 37,
   "id": "1d28f2fe-1a63-40f5-99da-4cde3a4736d4",
   "metadata": {},
   "outputs": [
    {
     "data": {
      "text/plain": [
       "20"
      ]
     },
     "execution_count": 37,
     "metadata": {},
     "output_type": "execute_result"
    }
   ],
   "source": [
    "len(y)"
   ]
  },
  {
   "cell_type": "code",
   "execution_count": 42,
   "id": "4faa7ed2-3618-490b-94ae-401fb224cf1b",
   "metadata": {},
   "outputs": [],
   "source": [
    "# storing list inside another list \n",
    "a = [1,2,3]\n",
    "b = [a,b,c]\n",
    "c = [a,b]\n"
   ]
  },
  {
   "cell_type": "code",
   "execution_count": 44,
   "id": "ad82c36a-3814-4263-86bb-cf7fc4486da4",
   "metadata": {},
   "outputs": [
    {
     "name": "stdout",
     "output_type": "stream",
     "text": [
      "3\n"
     ]
    }
   ],
   "source": [
    "print(c[0][2])"
   ]
  },
  {
   "cell_type": "code",
   "execution_count": 67,
   "id": "d587506e-e89e-4271-aa3f-6b5ffb9a2588",
   "metadata": {},
   "outputs": [
    {
     "name": "stdout",
     "output_type": "stream",
     "text": [
      "[1, 1.1, 1.11, 1.111, 1.1111, 1.11111, 1, 1.2100000000000002, 1.2321000000000002, 1.234321, 1.23454321, 1.2345654321000001]\n"
     ]
    }
   ],
   "source": [
    "# list comprehensive \n",
    "# let say we are going to create a for loop to update our list \n",
    "D = [1, 1.1 , 1.11, 1.111, 1.1111, 1.11111]\n",
    "\n",
    "for i in range(len(D)):\n",
    "    D.append(D[i]**2)\n",
    "print(D)\n"
   ]
  },
  {
   "cell_type": "code",
   "execution_count": 71,
   "id": "4f661e9c-61ba-4ada-bc99-3f8986524731",
   "metadata": {},
   "outputs": [],
   "source": [
    "D = [D[i]**1/2 for i in range(len(D))]"
   ]
  },
  {
   "cell_type": "code",
   "execution_count": 73,
   "id": "6627cf2f-2d21-4ac3-bee4-1f95f98fa02f",
   "metadata": {},
   "outputs": [
    {
     "data": {
      "text/plain": [
       "[0.5,\n",
       " 0.55,\n",
       " 0.555,\n",
       " 0.5555,\n",
       " 0.55555,\n",
       " 0.555555,\n",
       " 0.5,\n",
       " 0.6050000000000001,\n",
       " 0.6160500000000001,\n",
       " 0.6171605,\n",
       " 0.617271605,\n",
       " 0.6172827160500001]"
      ]
     },
     "execution_count": 73,
     "metadata": {},
     "output_type": "execute_result"
    }
   ],
   "source": [
    "D"
   ]
  },
  {
   "cell_type": "code",
   "execution_count": 75,
   "id": "1e90314e-5a74-48f9-a9be-89e98d5afeef",
   "metadata": {},
   "outputs": [
    {
     "name": "stdout",
     "output_type": "stream",
     "text": [
      "['tania', 'jannati', 'Ador']\n"
     ]
    }
   ],
   "source": [
    "# built in function list()\n",
    "#  creating a list by creating an object \n",
    "x = list((\"tania\" , \"jannati\", \"Ador\"))\n",
    "print(x)"
   ]
  },
  {
   "cell_type": "markdown",
   "id": "f7b46a20-7add-4d2f-b8ac-323831d6e6a0",
   "metadata": {},
   "source": [
    "# Tuples in Python "
   ]
  },
  {
   "cell_type": "code",
   "execution_count": 84,
   "id": "68270ee6-a9aa-42f6-b47f-89f9dfd7e8fe",
   "metadata": {},
   "outputs": [
    {
     "name": "stdout",
     "output_type": "stream",
     "text": [
      "('tanvir', 'ador', 100)\n"
     ]
    }
   ],
   "source": [
    "# Tuple list like structure but not mutable may be not sure :0 \n",
    "x = \"tanvir\" , \"ador\" , 100\n",
    "print(x)\n"
   ]
  },
  {
   "cell_type": "code",
   "execution_count": 88,
   "id": "c898a6a9-df51-425b-96d3-66ae55c3ca11",
   "metadata": {},
   "outputs": [
    {
     "name": "stdout",
     "output_type": "stream",
     "text": [
      "(['dina', 'adiba', 'sinthia'], ['onumate', 'tania', 'Abony'])\n",
      "(['dina', 'Fuck Dina', 'sinthia'], ['onumate', 'tania', 'Abony'])\n"
     ]
    }
   ],
   "source": [
    "# lets consider another example with list inside tuple \n",
    "y = [\"dina\", \"adiba\", \"sinthia\"] , [\"onumate\", \"tania\", \"Abony\"]\n",
    "print(y)\n",
    "y[0][1] = \"Fuck Dina\" \n",
    "print(y)"
   ]
  },
  {
   "cell_type": "code",
   "execution_count": 90,
   "id": "4cfa3de9-829b-436e-bb00-7245ce8b36ff",
   "metadata": {},
   "outputs": [
    {
     "name": "stdout",
     "output_type": "stream",
     "text": [
      "['dina', 'Fuck Dina', 'sinthia']\n",
      "['onumate', 'tania', 'Abony']\n"
     ]
    }
   ],
   "source": [
    "# unpacking tuples we can use variables to uppack and store the elements of tuples \n",
    "# considering the last tuple \n",
    "a,b = y\n",
    "print(a)\n",
    "print(b)"
   ]
  },
  {
   "cell_type": "code",
   "execution_count": 92,
   "id": "fc960447-adb7-46b7-a47a-70ee992d3ea3",
   "metadata": {},
   "outputs": [
    {
     "name": "stdout",
     "output_type": "stream",
     "text": [
      "dina\n"
     ]
    }
   ],
   "source": [
    "print(a[0])"
   ]
  },
  {
   "cell_type": "code",
   "execution_count": 94,
   "id": "81b6d8a6-cd59-4f44-b486-ba0c73c5451a",
   "metadata": {},
   "outputs": [],
   "source": [
    "# common methods count(), index()"
   ]
  },
  {
   "cell_type": "markdown",
   "id": "87462ced-01c3-4f2e-8a2a-48930094d7e6",
   "metadata": {},
   "source": [
    "# Sets in python hahaha "
   ]
  },
  {
   "cell_type": "code",
   "execution_count": 2,
   "id": "90d272ff-80be-4a39-868f-27f97e5be045",
   "metadata": {},
   "outputs": [
    {
     "name": "stdout",
     "output_type": "stream",
     "text": [
      "{0, 1, 2, 5, 12}\n"
     ]
    }
   ],
   "source": [
    "# uncorder , no dublicates value \n",
    "set1 = {1,1,1,0,0, 5, 2, 12}\n",
    "print(set1)"
   ]
  },
  {
   "cell_type": "code",
   "execution_count": 4,
   "id": "d0e4ea78-a3d5-48c5-a2bd-361e9cce4567",
   "metadata": {},
   "outputs": [
    {
     "name": "stdout",
     "output_type": "stream",
     "text": [
      "{'Mim', 'mim', 'Dim'}\n"
     ]
    }
   ],
   "source": [
    " set2 ={\"mim\", \"Mim\", \"mim\", \"Dim\"}\n",
    "print(set2)"
   ]
  },
  {
   "cell_type": "code",
   "execution_count": 8,
   "id": "54530bf8-5762-47d2-b435-5516a168dd84",
   "metadata": {},
   "outputs": [
    {
     "data": {
      "text/plain": [
       "True"
      ]
     },
     "execution_count": 8,
     "metadata": {},
     "output_type": "execute_result"
    }
   ],
   "source": [
    "\"mim\" in set2"
   ]
  },
  {
   "cell_type": "code",
   "execution_count": 10,
   "id": "346c3ba5-f15d-4fdf-8d08-92cbb961b761",
   "metadata": {},
   "outputs": [
    {
     "name": "stdout",
     "output_type": "stream",
     "text": [
      "{'a', 'r', 't', 'n', 'i', 'v'}\n"
     ]
    }
   ],
   "source": [
    "a= set(\"tanvir\")\n",
    "print(a)"
   ]
  },
  {
   "cell_type": "code",
   "execution_count": 12,
   "id": "f6e0278b-665b-42da-848c-bccddc39ff48",
   "metadata": {},
   "outputs": [],
   "source": [
    "#  a lot of practice is necessary so good luck whatever you have "
   ]
  },
  {
   "cell_type": "markdown",
   "id": "1474b0f3-606d-4711-aada-69e3577734c5",
   "metadata": {},
   "source": [
    "# Dictionary in Python like js Object or Json Object"
   ]
  },
  {
   "cell_type": "code",
   "execution_count": 9,
   "id": "e8b88a81-ff47-485d-80fa-901d12714506",
   "metadata": {},
   "outputs": [],
   "source": [
    "# Dictionary is mutable \n",
    "Students = {\n",
    "    'Student01':{'name':'tanvir rahman Tonoy','age':20},\n",
    "    'Student02' : {'name':'Tamim' , 'age' : 20 }\n",
    "}"
   ]
  },
  {
   "cell_type": "code",
   "execution_count": 11,
   "id": "7bc4741d-2294-4975-83f2-e2b289ffd80e",
   "metadata": {},
   "outputs": [],
   "source": [
    "# I Don't know what is the end of this journey but I'm skipping the complex data types \n"
   ]
  },
  {
   "cell_type": "markdown",
   "id": "9d39966b-51f6-4d22-b396-e9eb19156aef",
   "metadata": {},
   "source": [
    "# Control Statements"
   ]
  },
  {
   "cell_type": "code",
   "execution_count": 2,
   "id": "c88f0990-24b0-4a33-a646-90661bdca084",
   "metadata": {},
   "outputs": [
    {
     "name": "stdout",
     "output_type": "stream",
     "text": [
      "AstagfirullaH\n"
     ]
    }
   ],
   "source": [
    "tania = 0\n",
    "if tania:\n",
    "    print(\"She is cute\")\n",
    "else : \n",
    "    print(\"AstagfirullaH\")"
   ]
  },
  {
   "cell_type": "code",
   "execution_count": 44,
   "id": "fcc94e89-ac6e-45dd-adc6-6e4c4f96ac2e",
   "metadata": {},
   "outputs": [
    {
     "name": "stdout",
     "output_type": "stream",
     "text": [
      "10  is less than 10\n"
     ]
    }
   ],
   "source": [
    "x = 10 \n",
    "if x<=10:\n",
    "    print(x,\" is less than 10\")\n",
    "elif x<5:\n",
    "    print(\"${x} is less than 10\")\n",
    "else:\n",
    "    print(\"${x} is less than or equal to 0\")"
   ]
  },
  {
   "cell_type": "markdown",
   "id": "e2228e26-1cf2-46e5-80d7-f1b26c357791",
   "metadata": {},
   "source": [
    "<!-- We are going to learn match  -->\n",
    "# Match statement vs case statement"
   ]
  },
  {
   "cell_type": "code",
   "execution_count": 59,
   "id": "523ba382-bc3c-4008-a684-1059ad1e2375",
   "metadata": {},
   "outputs": [],
   "source": [
    "def Match(x):\n",
    "    match x:\n",
    "        case 400:\n",
    "            return \"Bad News\"\n",
    "        case 404:\n",
    "            return \"Not found\"\n",
    "        case _:\n",
    "            return \"Something else\"\n"
   ]
  },
  {
   "cell_type": "code",
   "execution_count": 61,
   "id": "3da8059f-3b44-4b30-a14c-810f5f71918d",
   "metadata": {},
   "outputs": [
    {
     "data": {
      "text/plain": [
       "'Bad News'"
      ]
     },
     "execution_count": 61,
     "metadata": {},
     "output_type": "execute_result"
    }
   ],
   "source": [
    "Match(400)"
   ]
  },
  {
   "cell_type": "code",
   "execution_count": 63,
   "id": "9f7b5f07-dc09-4e23-8918-4a7364bf08ab",
   "metadata": {},
   "outputs": [
    {
     "data": {
      "text/plain": [
       "'Something else'"
      ]
     },
     "execution_count": 63,
     "metadata": {},
     "output_type": "execute_result"
    }
   ],
   "source": [
    "Match(_)"
   ]
  },
  {
   "cell_type": "code",
   "execution_count": 16,
   "id": "4f33f4a8-7150-4240-bd17-de412f6693d4",
   "metadata": {},
   "outputs": [],
   "source": [
    "def Point(point):\n",
    "    match point:\n",
    "        case (0,0):\n",
    "            print(\"origin\")\n",
    "        case (0, y):\n",
    "            print(f\"Y = {y}\")\n",
    "        case (x,0):\n",
    "            print(f\"X = {x}\")\n",
    "        case _:\n",
    "            raise ValueError(\"Not a point\")\n"
   ]
  },
  {
   "cell_type": "code",
   "execution_count": 18,
   "id": "740cee05-753e-444b-a5c5-a5db95cb495b",
   "metadata": {},
   "outputs": [
    {
     "name": "stdout",
     "output_type": "stream",
     "text": [
      "X = 100\n"
     ]
    }
   ],
   "source": [
    "Point((100,0))"
   ]
  },
  {
   "cell_type": "code",
   "execution_count": 20,
   "id": "ab098567-4a71-478b-9ab2-938d27379792",
   "metadata": {},
   "outputs": [
    {
     "name": "stdout",
     "output_type": "stream",
     "text": [
      "Y = 101\n"
     ]
    }
   ],
   "source": [
    "Point((0,101))"
   ]
  },
  {
   "cell_type": "code",
   "execution_count": 24,
   "id": "8768cdbe-2171-4d22-b56b-26a2fac6f588",
   "metadata": {},
   "outputs": [
    {
     "name": "stdout",
     "output_type": "stream",
     "text": [
      "origin\n"
     ]
    }
   ],
   "source": [
    "Point((0,0))"
   ]
  },
  {
   "cell_type": "code",
   "execution_count": null,
   "id": "664d0f0c-f5a1-46d7-ae47-35817b494683",
   "metadata": {},
   "outputs": [],
   "source": []
  }
 ],
 "metadata": {
  "kernelspec": {
   "display_name": "Python [conda env:base] *",
   "language": "python",
   "name": "conda-base-py"
  },
  "language_info": {
   "codemirror_mode": {
    "name": "ipython",
    "version": 3
   },
   "file_extension": ".py",
   "mimetype": "text/x-python",
   "name": "python",
   "nbconvert_exporter": "python",
   "pygments_lexer": "ipython3",
   "version": "3.12.4"
  }
 },
 "nbformat": 4,
 "nbformat_minor": 5
}
