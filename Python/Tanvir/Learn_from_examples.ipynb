{
 "cells": [
  {
   "cell_type": "markdown",
   "id": "9b7d2454",
   "metadata": {},
   "source": [
    "# I am currently reading a book regarding Python #\n"
   ]
  },
  {
   "cell_type": "code",
   "execution_count": null,
   "id": "55484568",
   "metadata": {},
   "outputs": [],
   "source": [
    "import os , sys\n",
    "os.system(sys.executable + ' -m pip install --user bigbookpython')"
   ]
  },
  {
   "cell_type": "markdown",
   "id": "2a32bb5e",
   "metadata": {},
   "source": [
    " ```\n",
    " Actually I'm following the book called A big book of small python projects \n",
    " ```\n",
    "### Chapter 01 ###"
   ]
  },
  {
   "cell_type": "code",
   "execution_count": null,
   "id": "20f1d4d2",
   "metadata": {},
   "outputs": [
    {
     "name": "stdout",
     "output_type": "stream",
     "text": [
      "\n",
      "        I am thinking of a 3-digit number with no repeated digits. Try to guess what it is. Here are some clues:\n",
      "          When I say :          That means:\n",
      "            Pico                One digit is correct but in the wrong position\n",
      "            Fermi               One digit is correct and in the right position\n",
      "            Bagels              No digit is correct\n",
      "        For example , if the secret number was 248 and your guess was 843 , the clues would be fermi pico. \n",
      "['0', '3', '5', '6', '7', '9', '2', '1', '4', '8']\n",
      "I have thought up a number\n",
      "you have 10 guesses to get it\n",
      "Guess 1\n"
     ]
    }
   ],
   "source": [
    "#1 Bagels\n",
    "\"\"\"\n",
    "In Bagels, a deductive logic game, you\n",
    "must guess a secret three-digit number\n",
    "based on clues. The game offers one of\n",
    "the following hints in response to your guess:\n",
    "“Pico” when your guess has a correct digit in the\n",
    "wrong place, “Fermi” when your guess has a correct\n",
    "digit in the correct place, and “Bagels” if your guess\n",
    "has no correct digits. You have 10 tries to guess the\n",
    "secret number\"\"\"\n",
    "\n",
    "import random\n",
    "NUM_OF_DIGITS = 3\n",
    "MAX_GUESSES = 10\n",
    "\n",
    "\n",
    "def main():\n",
    "    print('''\n",
    "    I am thinking of a {}-digit number with no repeated digits. Try to guess what it is. Here are some clues:\n",
    "          When I say :          That means:\n",
    "            Pico                One digit is correct but in the wrong position\n",
    "            Fermi               One digit is correct and in the right position\n",
    "            Bagels              No digit is correct\n",
    "    For example , if the secret number was 248 and your guess was 843 , the clues would be fermi pico. '''.format(NUM_OF_DIGITS))\n",
    "    while True: # meaning it will always run this loop\n",
    "        secretNum = getSecrectNum()\n",
    "        print(\"I have thought up a number\")\n",
    "        print(f\"you have {MAX_GUESSES} guesses to get it\")\n",
    "        numGuesses = 1\n",
    "        while numGuesses<= MAX_GUESSES:\n",
    "             guess = ''\n",
    "             while len(guess) != len(secretNum):\n",
    "                  print(f\"Guess {numGuesses}\")\n",
    "                  guess = input(\">\")\n",
    "def getSecrectNum():\n",
    "        #I need a random number of 3 digits but that must have to be a string !\n",
    "        # according to the author : \n",
    "        # Concept #1 make a list of string values and shuffle them\n",
    "        numbers = list(\"0123456789\")\n",
    "        random.shuffle(numbers)\n",
    "        print(numbers)\n",
    "\n",
    "        # add them one by one \n",
    "        secretNum = \"\"\n",
    "        for i in range(3):\n",
    "            secretNum += numbers[i]\n",
    "        return secretNum\n",
    "    \n",
    "if __name__ == '__main__':\n",
    "    main()"
   ]
  },
  {
   "cell_type": "code",
   "execution_count": null,
   "id": "7112847d",
   "metadata": {},
   "outputs": [],
   "source": []
  }
 ],
 "metadata": {
  "kernelspec": {
   "display_name": "Python 3",
   "language": "python",
   "name": "python3"
  },
  "language_info": {
   "codemirror_mode": {
    "name": "ipython",
    "version": 3
   },
   "file_extension": ".py",
   "mimetype": "text/x-python",
   "name": "python",
   "nbconvert_exporter": "python",
   "pygments_lexer": "ipython3",
   "version": "3.9.6"
  }
 },
 "nbformat": 4,
 "nbformat_minor": 5
}
