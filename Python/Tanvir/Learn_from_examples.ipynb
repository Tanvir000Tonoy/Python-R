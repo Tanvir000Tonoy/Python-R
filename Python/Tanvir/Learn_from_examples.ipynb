{
 "cells": [
  {
   "cell_type": "markdown",
   "id": "83dcb423",
   "metadata": {},
   "source": [
    "\n",
    "![Something](./images/IMG_0157.jpg)\n",
    "# এখন থেকে প্রতিদিন কিছু নতুন শিখবো # \n",
    "No AI from this portion - Premitive method of learning:\n",
    "    \n",
    "    Read\n",
    "    Write\n",
    "    Practice ! "
   ]
  },
  {
   "cell_type": "code",
   "execution_count": null,
   "id": "55484568",
   "metadata": {},
   "outputs": [],
   "source": [
    "import os , sys\n",
    "os.system(sys.executable + ' -m pip install --user bigbookpython')"
   ]
  },
  {
   "cell_type": "markdown",
   "id": "2a32bb5e",
   "metadata": {},
   "source": [
    "# 1\n",
    "Bagels  "
   ]
  },
  {
   "cell_type": "code",
   "execution_count": null,
   "id": "7b5ce69c",
   "metadata": {},
   "outputs": [],
   "source": [
    "#1 Bagels\n",
    "\"\"\"\n",
    "In Bagels, a deductive logic game, you\n",
    "must guess a secret three-digit number\n",
    "based on clues. The game offers one of\n",
    "the following hints in response to your guess:\n",
    "“Pico” when your guess has a correct digit in the\n",
    "wrong place, “Fermi” when your guess has a correct\n",
    "digit in the correct place, and “Bagels” if your guess\n",
    "has no correct digits. You have 10 tries to guess the\n",
    "secret number\"\"\"\n",
    "\n",
    "import random\n",
    "NUM_OF_DIGITS = 3\n",
    "MAX_GUESSES = 10\n",
    "\n",
    "\n",
    "def main():\n",
    "    print('''\n",
    "    I am thinking of a {}-digit number with no repeated digits. Try to guess what it is. Here are some clues:\n",
    "          When I say :          That means:\n",
    "            Pico                One digit is correct but in the wrong position\n",
    "            Fermi               One digit is correct and in the right position\n",
    "            Bagels              No digit is correct\n",
    "    For example , if the secret number was 248 and your guess was 843 , the clues would be fermi pico. '''.format(NUM_OF_DIGITS))\n",
    "    while True: # meaning it will always run this loop\n",
    "        secretNum = getSecrectNum()\n",
    "        print(\"I have thought up a number\")\n",
    "        print(f\"you have {MAX_GUESSES} guesses to get it\")\n",
    "        numGuesses = 1\n",
    "        while numGuesses <= MAX_GUESSES:\n",
    "            guess = ''\n",
    "            while len(guess) != NUM_OF_DIGITS or not guess.isdecimal():\n",
    "                print(f\"Guess {numGuesses}\")\n",
    "                guess = input(\"> \")\n",
    "            clues = getClues( guess, secretNum)\n",
    "            print(clues)\n",
    "            numGuesses +=1\n",
    "            if guess == secretNum:\n",
    "             break\n",
    "            if numGuesses > MAX_GUESSES:\n",
    "                print(\"You ran out of guesses.\")\n",
    "                print(\"The Answer was {}.\".format(secretNum))\n",
    "        print(\"DO you want to play again ? (yes or no)\")\n",
    "        if not input(\"> \").lower().startswith(\"y\"):\n",
    "             break\n",
    "    print(\"Thanks for playing!\")\n",
    "\n",
    "     \n",
    "def getSecrectNum():\n",
    "        #I need a random number of 3 digits but that must have to be a string !\n",
    "        # according to the author : \n",
    "        # Concept #1 make a list of string values and shuffle them\n",
    "        numbers = list(\"0123456789\")\n",
    "        random.shuffle(numbers)\n",
    "        print(numbers)\n",
    "\n",
    "        # add them one by one \n",
    "        secretNum = \"\"\n",
    "        for i in range(3):\n",
    "            secretNum += numbers[i]\n",
    "            i +=1\n",
    "        return secretNum\n",
    "\n",
    "def getClues(guess, secretNum):\n",
    "    if guess == secretNum:\n",
    "        return \"You got it\"\n",
    "    clues = []\n",
    "    for i in range(len(guess)):\n",
    "        if guess[i] == secretNum[i]:\n",
    "             clues.append(\"Fermi\")\n",
    "        elif guess[i] in secretNum:\n",
    "             clues.append(\"Pico\")\n",
    "    if len(clues) ==0:\n",
    "        return \"Bagels\"\n",
    "    else:\n",
    "     clues.sort()\n",
    "     return \" \".join(clues)\n",
    "\n",
    "if __name__ == '__main__':\n",
    "    main()"
   ]
  },
  {
   "cell_type": "markdown",
   "id": "d08ca17d",
   "metadata": {},
   "source": [
    "# 2 \n",
    "Birthday Paradox - skipping because I'm not getting it's concept. Need to cover the probality basics ..."
   ]
  },
  {
   "cell_type": "markdown",
   "id": "b3e9e763",
   "metadata": {},
   "source": [
    "# 3 # \n",
    "B I T M A P  `   M E S S A G E`"
   ]
  },
  {
   "cell_type": "code",
   "execution_count": null,
   "id": "601934b9",
   "metadata": {},
   "outputs": [
    {
     "name": "stdout",
     "output_type": "stream",
     "text": [
      "Bitmap Message, by Al Sweigart al@inventwithpython.com\n",
      "Enter the message to display with the bitmap.\n",
      "\n",
      "10101010101010101010101010101010101010101010101010101010101010101010\n",
      "10101010101010101010101010101010101010101010101010101010101010101010101010101010\n",
      "10101010101010101010101010101010101010101010101010101010101010101010101010101010\n",
      "10101010101010101010101010101010101010101010101010101010101010101010101010101010\n",
      "101010101010101010101010101010101010101010101010101010101   10101010101010101010\n",
      "1010101            0101010101010101010101010101010101010     0101010101010101010\n",
      "10101010          1010   010  1010 010   0101  010101 1010  1010 0101 1010101010\n",
      "10101010101     101            0                 01          0         010101010\n",
      "10101010101     10     010     0     01     1          0     0      101010101010\n",
      "10101010101     10     010     0     01     10       010     0     0101010101010\n",
      "10101010101     1010           0     01     101     1010     0     0101010101010\n",
      "10101010101010101010101010101010101010101010101010101010101010101010101010101010\n",
      "10101010101010101010101010101010101010101010101010101010101010101010101010101010\n",
      "\n",
      "10101010101010101010101010101010101010101010101010101010101010101010\n"
     ]
    }
   ],
   "source": [
    "import sys\n",
    "bitmap = \"\"\"\n",
    "....................................................................\n",
    "********/////*********/////********/////*********///*/********////***********///\n",
    "*********/////*********////********/////********///**********/////*********////*\n",
    "///********/////********////********////********////********////*********///*/**\n",
    "/////********////********////*******////*******///*******   ./*********////*****\n",
    "***////            ,******///*******////*******///******     ********///********\n",
    "*****///          ./**   *//  ***. *//   ****  /*/**. **/*  **** **/, /*******//\n",
    "/*******///     **/            *                 **          *         .***////*\n",
    "////******/     **     ***     *     //     *          /     *      ****//*/****\n",
    "***////****     **     **,     /     //     */       ***     /     **////******/\n",
    "*******///*     //*.           /     //     /**     /***     *     ///******//**\n",
    "*////*****///*****//*****//****//****///***///****//****//******//******/*/*****\n",
    "******///*****//****///***//****//****/****/*****//***/*/****/******/*/*****////\n",
    "\n",
    "....................................................................\n",
    "\"\"\"\n",
    "\n",
    "message = input('> ')\n",
    "if message == '':\n",
    " sys.exit()\n",
    "\n",
    "# Loop over each line in the bitmap:\n",
    "for line in bitmap.splitlines():\n",
    "# Loop over each character in the line:\n",
    "    for i, bit in enumerate(line):\n",
    "        if bit == ' ':\n",
    "# Print an empty space since there's a space in the bitmap:\n",
    "            print(' ', end='')\n",
    "        else:\n",
    "# Print a character from the message:\n",
    "            print(message[i % len(message)], end='') # no idea about this line :) \n",
    "    print() # Print a newline."
   ]
  },
  {
   "cell_type": "code",
   "execution_count": null,
   "id": "24df9c0d",
   "metadata": {},
   "outputs": [],
   "source": []
  }
 ],
 "metadata": {
  "kernelspec": {
   "display_name": "Python 3",
   "language": "python",
   "name": "python3"
  },
  "language_info": {
   "codemirror_mode": {
    "name": "ipython",
    "version": 3
   },
   "file_extension": ".py",
   "mimetype": "text/x-python",
   "name": "python",
   "nbconvert_exporter": "python",
   "pygments_lexer": "ipython3",
   "version": "3.9.6"
  }
 },
 "nbformat": 4,
 "nbformat_minor": 5
}
