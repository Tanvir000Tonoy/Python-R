{
 "cells": [
  {
   "cell_type": "markdown",
   "id": "9b7d2454",
   "metadata": {},
   "source": [
    "# I am currently reading a book regarding Python #\n"
   ]
  },
  {
   "cell_type": "code",
   "execution_count": null,
   "id": "55484568",
   "metadata": {},
   "outputs": [],
   "source": [
    "import os , sys\n",
    "os.system(sys.executable + ' -m pip install --user bigbookpython')"
   ]
  },
  {
   "cell_type": "markdown",
   "id": "2a32bb5e",
   "metadata": {},
   "source": [
    " ```\n",
    " Actually I'm following the book called A big book of small python projects \n",
    " ```"
   ]
  },
  {
   "cell_type": "code",
   "execution_count": null,
   "id": "20f1d4d2",
   "metadata": {},
   "outputs": [],
   "source": []
  }
 ],
 "metadata": {
  "kernelspec": {
   "display_name": "Python 3",
   "language": "python",
   "name": "python3"
  },
  "language_info": {
   "codemirror_mode": {
    "name": "ipython",
    "version": 3
   },
   "file_extension": ".py",
   "mimetype": "text/x-python",
   "name": "python",
   "nbconvert_exporter": "python",
   "pygments_lexer": "ipython3",
   "version": "3.9.6"
  }
 },
 "nbformat": 4,
 "nbformat_minor": 5
}
