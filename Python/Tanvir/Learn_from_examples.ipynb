{
 "cells": [
  {
   "cell_type": "markdown",
   "id": "83dcb423",
   "metadata": {},
   "source": [
    "\n",
    "![Something](./images/IMG_0157.jpg)\n",
    "# এখন থেকে প্রতিদিন কিছু নতুন শিখবো # \n",
    "No AI from this portion - Premitive method of learning:\n",
    "    \n",
    "    Read\n",
    "    Write\n",
    "    Practice ! "
   ]
  },
  {
   "cell_type": "code",
   "execution_count": null,
   "id": "55484568",
   "metadata": {},
   "outputs": [],
   "source": [
    "import os , sys\n",
    "os.system(sys.executable + ' -m pip install --user bigbookpython')"
   ]
  },
  {
   "cell_type": "markdown",
   "id": "2a32bb5e",
   "metadata": {},
   "source": [
    "# 1\n",
    "Bagels  "
   ]
  },
  {
   "cell_type": "code",
   "execution_count": null,
   "id": "7b5ce69c",
   "metadata": {},
   "outputs": [],
   "source": [
    "#1 Bagels\n",
    "\"\"\"\n",
    "In Bagels, a deductive logic game, you\n",
    "must guess a secret three-digit number\n",
    "based on clues. The game offers one of\n",
    "the following hints in response to your guess:\n",
    "“Pico” when your guess has a correct digit in the\n",
    "wrong place, “Fermi” when your guess has a correct\n",
    "digit in the correct place, and “Bagels” if your guess\n",
    "has no correct digits. You have 10 tries to guess the\n",
    "secret number\"\"\"\n",
    "\n",
    "import random\n",
    "NUM_OF_DIGITS = 3\n",
    "MAX_GUESSES = 10\n",
    "\n",
    "\n",
    "def main():\n",
    "    print('''\n",
    "    I am thinking of a {}-digit number with no repeated digits. Try to guess what it is. Here are some clues:\n",
    "          When I say :          That means:\n",
    "            Pico                One digit is correct but in the wrong position\n",
    "            Fermi               One digit is correct and in the right position\n",
    "            Bagels              No digit is correct\n",
    "    For example , if the secret number was 248 and your guess was 843 , the clues would be fermi pico. '''.format(NUM_OF_DIGITS))\n",
    "    while True: # meaning it will always run this loop\n",
    "        secretNum = getSecrectNum()\n",
    "        print(\"I have thought up a number\")\n",
    "        print(f\"you have {MAX_GUESSES} guesses to get it\")\n",
    "        numGuesses = 1\n",
    "        while numGuesses <= MAX_GUESSES:\n",
    "            guess = ''\n",
    "            while len(guess) != NUM_OF_DIGITS or not guess.isdecimal():\n",
    "                print(f\"Guess {numGuesses}\")\n",
    "                guess = input(\"> \")\n",
    "            clues = getClues( guess, secretNum)\n",
    "            print(clues)\n",
    "            numGuesses +=1\n",
    "            if guess == secretNum:\n",
    "             break\n",
    "            if numGuesses > MAX_GUESSES:\n",
    "                print(\"You ran out of guesses.\")\n",
    "                print(\"The Answer was {}.\".format(secretNum))\n",
    "        print(\"DO you want to play again ? (yes or no)\")\n",
    "        if not input(\"> \").lower().startswith(\"y\"):\n",
    "             break\n",
    "    print(\"Thanks for playing!\")\n",
    "\n",
    "     \n",
    "def getSecrectNum():\n",
    "        #I need a random number of 3 digits but that must have to be a string !\n",
    "        # according to the author : \n",
    "        # Concept #1 make a list of string values and shuffle them\n",
    "        numbers = list(\"0123456789\")\n",
    "        random.shuffle(numbers)\n",
    "        print(numbers)\n",
    "\n",
    "        # add them one by one \n",
    "        secretNum = \"\"\n",
    "        for i in range(3):\n",
    "            secretNum += numbers[i]\n",
    "            i +=1\n",
    "        return secretNum\n",
    "\n",
    "def getClues(guess, secretNum):\n",
    "    if guess == secretNum:\n",
    "        return \"You got it\"\n",
    "    clues = []\n",
    "    for i in range(len(guess)):\n",
    "        if guess[i] == secretNum[i]:\n",
    "             clues.append(\"Fermi\")\n",
    "        elif guess[i] in secretNum:\n",
    "             clues.append(\"Pico\")\n",
    "    if len(clues) ==0:\n",
    "        return \"Bagels\"\n",
    "    else:\n",
    "     clues.sort()\n",
    "     return \" \".join(clues)\n",
    "\n",
    "if __name__ == '__main__':\n",
    "    main()"
   ]
  },
  {
   "cell_type": "markdown",
   "id": "d08ca17d",
   "metadata": {},
   "source": [
    "# 2 \n",
    "Birthday Paradox"
   ]
  },
  {
   "cell_type": "code",
   "execution_count": 1,
   "id": "153509dd",
   "metadata": {},
   "outputs": [
    {
     "data": {
      "text/plain": [
       "[datetime.date(2001, 8, 21),\n",
       " datetime.date(2001, 7, 12),\n",
       " datetime.date(2001, 4, 18),\n",
       " datetime.date(2001, 6, 16),\n",
       " datetime.date(2001, 12, 9),\n",
       " datetime.date(2001, 9, 20),\n",
       " datetime.date(2001, 4, 10),\n",
       " datetime.date(2001, 12, 17),\n",
       " datetime.date(2001, 11, 23),\n",
       " datetime.date(2001, 11, 30)]"
      ]
     },
     "execution_count": 1,
     "metadata": {},
     "output_type": "execute_result"
    }
   ],
   "source": [
    "import datetime, random\n",
    "\n",
    "def getBirthdays(numberOfBirthdays):\n",
    "    birthdays = []\n",
    "    for i in range(numberOfBirthdays):\n",
    "        startOfYear = datetime.date(2001,1,1)\n",
    "        randomNumberOfDays = datetime.timedelta(random.randint(0,364))\n",
    "        birthday = startOfYear + randomNumberOfDays\n",
    "        birthdays.append(birthday)\n",
    "    return birthdays\n",
    "getBirthdays(10)"
   ]
  },
  {
   "cell_type": "code",
   "execution_count": null,
   "id": "403fdf49",
   "metadata": {},
   "outputs": [],
   "source": [
    "def getMatch(birthdays):\n",
    "    if len(birthdays) == len(set(birthdays)):\n",
    "        print()"
   ]
  }
 ],
 "metadata": {
  "kernelspec": {
   "display_name": "Python 3",
   "language": "python",
   "name": "python3"
  },
  "language_info": {
   "codemirror_mode": {
    "name": "ipython",
    "version": 3
   },
   "file_extension": ".py",
   "mimetype": "text/x-python",
   "name": "python",
   "nbconvert_exporter": "python",
   "pygments_lexer": "ipython3",
   "version": "3.9.6"
  }
 },
 "nbformat": 4,
 "nbformat_minor": 5
}
