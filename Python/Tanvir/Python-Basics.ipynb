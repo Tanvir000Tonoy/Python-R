{
 "cells": [
  {
   "cell_type": "markdown",
   "id": "238a2e9a",
   "metadata": {},
   "source": [
    "![python](https://media2.giphy.com/media/v1.Y2lkPTc5MGI3NjExeWdkZ2tsYjhhMzllcGplZWh3d2thOWRkanM2OTg4ejZwcDI4bzNxMCZlcD12MV9pbnRlcm5hbF9naWZfYnlfaWQmY3Q9Zw/ENagATV1Gr9eg/giphy.gif)\n",
    "# Learning Python 😂 in 2025\n",
    "    tanvir rahman tonoy | 16.06.2025"
   ]
  },
  {
   "cell_type": "code",
   "execution_count": null,
   "id": "66e12997",
   "metadata": {},
   "outputs": [],
   "source": [
    "import sys\n",
    "print(sys.version)"
   ]
  },
  {
   "cell_type": "code",
   "execution_count": null,
   "id": "936c3d2d",
   "metadata": {},
   "outputs": [],
   "source": [
    "print(\"Life is full of surprises ;) \")"
   ]
  },
  {
   "cell_type": "code",
   "execution_count": null,
   "id": "8802690e",
   "metadata": {},
   "outputs": [],
   "source": [
    "a = \"something\"\n",
    "b = \"strange\"\n",
    "print(a,b)"
   ]
  },
  {
   "cell_type": "markdown",
   "id": "cf5e92ff",
   "metadata": {},
   "source": [
    "### Actually I know a little about basics of python so I will be learning with this flow : \n",
    "\n",
    "1. variable naming , indentation\n",
    "2. data types in pyton \n",
    "3. operations \n",
    "4. control flow and blocks \n",
    "5. loops \n",
    "6. Functions \n",
    "7. Making some project with python basics "
   ]
  },
  {
   "cell_type": "markdown",
   "id": "03e6fef6",
   "metadata": {},
   "source": [
    "## 2. Data Types \n",
    "![data types](./images/data%20types.png)"
   ]
  },
  {
   "cell_type": "markdown",
   "id": "0880fc37",
   "metadata": {},
   "source": [
    "### Number Type "
   ]
  },
  {
   "cell_type": "code",
   "execution_count": null,
   "id": "34650b5c",
   "metadata": {},
   "outputs": [],
   "source": [
    "# Scientific\n",
    "x = 510e10\n",
    "print(x)"
   ]
  },
  {
   "cell_type": "code",
   "execution_count": null,
   "id": "e5495d34",
   "metadata": {},
   "outputs": [],
   "source": [
    "# Complex\n",
    "a,b = 5j , 2j\n",
    "print(a+b)"
   ]
  },
  {
   "cell_type": "code",
   "execution_count": null,
   "id": "0cf36244",
   "metadata": {},
   "outputs": [],
   "source": [
    "import random\n",
    "x = random.randrange(1,3)\n",
    "if (x%2 == 0):\n",
    "    print(\"Heads\")\n",
    "else:\n",
    "    print(\"Tails\")"
   ]
  },
  {
   "cell_type": "code",
   "execution_count": null,
   "id": "e53cd58e",
   "metadata": {},
   "outputs": [],
   "source": [
    "# strings \n",
    "x = \"\"\"\n",
    "Life is full of surprises \n",
    "Every Single Day I'm gonna made \n",
    "someting great that's my way ...\n",
    "\"\"\"\n",
    "print(x)"
   ]
  },
  {
   "cell_type": "code",
   "execution_count": null,
   "id": "76009977",
   "metadata": {},
   "outputs": [],
   "source": [
    "# string is like a list so it has some common methods like lenght \n",
    "print(len(x))\n",
    "\n",
    "# it also supports is contain mehtod : in \n",
    "\n",
    "if \"Day\" in x:\n",
    "    print(\"Yes Day Exists in the string\")"
   ]
  },
  {
   "cell_type": "code",
   "execution_count": null,
   "id": "e1f571ba",
   "metadata": {},
   "outputs": [],
   "source": [
    "st = \"Hello\"\n",
    "print(st[:-3])"
   ]
  },
  {
   "cell_type": "code",
   "execution_count": null,
   "id": "025cf59d",
   "metadata": {},
   "outputs": [],
   "source": [
    "# string methods to modify them \n",
    "# .upper()\n",
    "# .lower() // \n",
    "# .strip() // removes white space from begining and ending\n",
    "# .split() // returns array\n",
    "# .replace()"
   ]
  },
  {
   "cell_type": "code",
   "execution_count": null,
   "id": "1dfc4035",
   "metadata": {},
   "outputs": [],
   "source": [
    "# String Formating\n",
    "name = \"Tanvir\"\n",
    "x = f\"I am {name}\"\n",
    "print(x)"
   ]
  },
  {
   "cell_type": "markdown",
   "id": "a6cd0678",
   "metadata": {},
   "source": [
    "![Escape Characters](./images/escape.png)"
   ]
  },
  {
   "cell_type": "markdown",
   "id": "bac3cedb",
   "metadata": {},
   "source": [
    "### Operators\n",
    "    Arithmetic operators\n",
    "    Assignment operators\n",
    "    Comparison operators\n",
    "    Logical operators\n",
    "    Identity operators\n",
    "    Membership operators\n",
    "    Bitwise operators"
   ]
  },
  {
   "cell_type": "markdown",
   "id": "9192bb3a",
   "metadata": {},
   "source": [
    "Few unkonwn operators are \n",
    ">>= , <<= , := , ~\n",
    "But Eventually they are : bitwise right shift, bitwise left shift , unkonwn , not "
   ]
  },
  {
   "cell_type": "markdown",
   "id": "dd5da285",
   "metadata": {},
   "source": [
    "## List\n",
    "They are used to store mulitple items in a single variable. "
   ]
  },
  {
   "cell_type": "code",
   "execution_count": null,
   "id": "66729ee6",
   "metadata": {},
   "outputs": [],
   "source": [
    "ourList = ['item1','item2','item3']\n",
    "print(ourList)"
   ]
  },
  {
   "cell_type": "code",
   "execution_count": null,
   "id": "88aff23b",
   "metadata": {},
   "outputs": [],
   "source": [
    "print(ourList[0])"
   ]
  },
  {
   "cell_type": "markdown",
   "id": "f4d34a54",
   "metadata": {},
   "source": [
    "### List can store different data types "
   ]
  },
  {
   "cell_type": "code",
   "execution_count": null,
   "id": "5b3a0917",
   "metadata": {},
   "outputs": [],
   "source": [
    "# to create list we can take use of the list() constructor \n",
    "ourNewList = list((\"a\",\"b\",\"c\"))\n",
    "print(ourNewList)"
   ]
  },
  {
   "cell_type": "code",
   "execution_count": null,
   "id": "458e6b39",
   "metadata": {},
   "outputs": [],
   "source": [
    "# using range to change the value of an element in a list\n",
    "ourNewList[1:2] = [\"aa\"] # confusing right ? just remember last index is not included \n",
    "\"\"\"\n",
    "-------------\n",
    "| a | b | c\n",
    "-------------\n",
    "  0   1   2  \n",
    "-------------\n",
    "\"\"\"\n",
    "print(ourNewList)\n"
   ]
  },
  {
   "cell_type": "code",
   "execution_count": null,
   "id": "7751ef26",
   "metadata": {},
   "outputs": [],
   "source": [
    "# insert items : \n",
    "# syntax \n",
    "# list.insert(index,value) it will replace Right ? \n",
    "ourNewList.insert(0,\"Tanvir\") \n",
    "# Conclusion : Yes it will repace last value on that position\n"
   ]
  },
  {
   "cell_type": "code",
   "execution_count": null,
   "id": "7db1dcfc",
   "metadata": {},
   "outputs": [],
   "source": [
    "#  we can combine two list with extend method\n",
    "list1 = [1,2,3,4]\n",
    "list2 = [5,6,7,8]\n",
    "list1.extend(list2)\n",
    "print(list1)\n",
    "# it supports any iterable like list or tuple"
   ]
  },
  {
   "cell_type": "code",
   "execution_count": null,
   "id": "343c1e3a",
   "metadata": {},
   "outputs": [],
   "source": [
    "# Remove() , pop(), del keyword , clear() method is used to remove elements from list\n"
   ]
  },
  {
   "cell_type": "code",
   "execution_count": null,
   "id": "b06d59fe",
   "metadata": {},
   "outputs": [],
   "source": [
    "# loops in list \n",
    "for x in list1:\n",
    "    print(x)\n"
   ]
  },
  {
   "cell_type": "code",
   "execution_count": null,
   "id": "ca407d9d",
   "metadata": {},
   "outputs": [],
   "source": [
    "for x in range(len(list2)):\n",
    "    print(list1[x])\n"
   ]
  },
  {
   "cell_type": "markdown",
   "id": "69d12bc3",
   "metadata": {},
   "source": [
    "## Match Statement ##\n",
    "So likely case statement"
   ]
  },
  {
   "cell_type": "markdown",
   "id": "1d6c5cda",
   "metadata": {},
   "source": [
    "```py\n",
    "day = 4\n",
    "match day:\n",
    "  case 6:\n",
    "    print(\"Today is Saturday\")\n",
    "  case 7:\n",
    "    print(\"Today is Sunday\")\n",
    "  case _:\n",
    "    print(\"Looking forward to the Weekend\")\n",
    "```\n",
    "it does the same as the following code results "
   ]
  },
  {
   "cell_type": "code",
   "execution_count": 8,
   "id": "d3859d3a",
   "metadata": {},
   "outputs": [
    {
     "name": "stdout",
     "output_type": "stream",
     "text": [
      "Looking forward to the Weekend\n"
     ]
    }
   ],
   "source": [
    "day = 4\n",
    "if day == 6:\n",
    "  print(\"Today is Saturday\")\n",
    "elif day == 7:\n",
    "  print(\"Today is Sunday\")\n",
    "else:\n",
    "  print(\"Looking forward to the Weekend\")\n",
    "\n"
   ]
  },
  {
   "cell_type": "code",
   "execution_count": null,
   "id": "ba9247c7",
   "metadata": {},
   "outputs": [],
   "source": []
  }
 ],
 "metadata": {
  "kernelspec": {
   "display_name": "Python 3",
   "language": "python",
   "name": "python3"
  },
  "language_info": {
   "codemirror_mode": {
    "name": "ipython",
    "version": 3
   },
   "file_extension": ".py",
   "mimetype": "text/x-python",
   "name": "python",
   "nbconvert_exporter": "python",
   "pygments_lexer": "ipython3",
   "version": "3.9.6"
  }
 },
 "nbformat": 4,
 "nbformat_minor": 5
}
