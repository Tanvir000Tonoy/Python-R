{
 "cells": [
  {
   "cell_type": "markdown",
   "id": "238a2e9a",
   "metadata": {},
   "source": [
    "![python](https://media2.giphy.com/media/v1.Y2lkPTc5MGI3NjExeWdkZ2tsYjhhMzllcGplZWh3d2thOWRkanM2OTg4ejZwcDI4bzNxMCZlcD12MV9pbnRlcm5hbF9naWZfYnlfaWQmY3Q9Zw/ENagATV1Gr9eg/giphy.gif)\n",
    "# Learning Python 😂 in 2025\n",
    "    tanvir rahman tonoy | 16.06.2025"
   ]
  },
  {
   "cell_type": "code",
   "execution_count": 20,
   "id": "66e12997",
   "metadata": {},
   "outputs": [
    {
     "name": "stdout",
     "output_type": "stream",
     "text": [
      "3.9.6 (default, Apr 30 2025, 02:07:17) \n",
      "[Clang 17.0.0 (clang-1700.0.13.5)]\n"
     ]
    }
   ],
   "source": [
    "import sys\n",
    "print(sys.version)"
   ]
  },
  {
   "cell_type": "code",
   "execution_count": 21,
   "id": "936c3d2d",
   "metadata": {},
   "outputs": [
    {
     "name": "stdout",
     "output_type": "stream",
     "text": [
      "Life is full of surprises ;) \n"
     ]
    }
   ],
   "source": [
    "print(\"Life is full of surprises ;) \")"
   ]
  },
  {
   "cell_type": "code",
   "execution_count": 22,
   "id": "8802690e",
   "metadata": {},
   "outputs": [
    {
     "name": "stdout",
     "output_type": "stream",
     "text": [
      "something strange\n"
     ]
    }
   ],
   "source": [
    "a = \"something\"\n",
    "b = \"strange\"\n",
    "print(a,b)"
   ]
  },
  {
   "cell_type": "markdown",
   "id": "cf5e92ff",
   "metadata": {},
   "source": [
    "### Actually I know a little about basics of python so I will be learning with this flow : \n",
    "\n",
    "1. variable naming , indentation\n",
    "2. data types in pyton \n",
    "3. operations \n",
    "4. control flow and blocks \n",
    "5. loops \n",
    "6. Functions \n",
    "7. Making some project with python basics "
   ]
  },
  {
   "cell_type": "markdown",
   "id": "03e6fef6",
   "metadata": {},
   "source": [
    "## 2. Data Types \n",
    "![data types](./images/data%20types.png)"
   ]
  },
  {
   "cell_type": "markdown",
   "id": "0880fc37",
   "metadata": {},
   "source": [
    "### Number Type "
   ]
  },
  {
   "cell_type": "code",
   "execution_count": null,
   "id": "34650b5c",
   "metadata": {},
   "outputs": [
    {
     "name": "stdout",
     "output_type": "stream",
     "text": [
      "5100000000000.0\n"
     ]
    }
   ],
   "source": [
    "# Scientific\n",
    "x = 510e10\n",
    "print(x)"
   ]
  },
  {
   "cell_type": "code",
   "execution_count": null,
   "id": "e5495d34",
   "metadata": {},
   "outputs": [
    {
     "name": "stdout",
     "output_type": "stream",
     "text": [
      "7j\n"
     ]
    }
   ],
   "source": [
    "# Complex\n",
    "a,b = 5j , 2j\n",
    "print(a+b)"
   ]
  },
  {
   "cell_type": "code",
   "execution_count": 52,
   "id": "0cf36244",
   "metadata": {},
   "outputs": [
    {
     "name": "stdout",
     "output_type": "stream",
     "text": [
      "Tails\n"
     ]
    }
   ],
   "source": [
    "import random\n",
    "x = random.randrange(1,3)\n",
    "if (x%2 == 0):\n",
    "    print(\"Heads\")\n",
    "else:\n",
    "    print(\"Tails\")"
   ]
  },
  {
   "cell_type": "code",
   "execution_count": 55,
   "id": "e53cd58e",
   "metadata": {},
   "outputs": [
    {
     "name": "stdout",
     "output_type": "stream",
     "text": [
      "\n",
      "Life is full of surprises \n",
      "Every Single Day I'm gonna made \n",
      "someting great that's my way ...\n",
      "\n"
     ]
    }
   ],
   "source": [
    "# strings \n",
    "x = \"\"\"\n",
    "Life is full of surprises \n",
    "Every Single Day I'm gonna made \n",
    "someting great that's my way ...\n",
    "\"\"\"\n",
    "print(x)"
   ]
  },
  {
   "cell_type": "code",
   "execution_count": 60,
   "id": "76009977",
   "metadata": {},
   "outputs": [
    {
     "name": "stdout",
     "output_type": "stream",
     "text": [
      "94\n",
      "Yes Day Exists in the string\n"
     ]
    }
   ],
   "source": [
    "# string is like a list so it has some common methods like lenght \n",
    "print(len(x))\n",
    "\n",
    "# it also supports is contain mehtod : in \n",
    "\n",
    "if \"Day\" in x:\n",
    "    print(\"Yes Day Exists in the string\")"
   ]
  },
  {
   "cell_type": "code",
   "execution_count": 64,
   "id": "e1f571ba",
   "metadata": {},
   "outputs": [
    {
     "name": "stdout",
     "output_type": "stream",
     "text": [
      "He\n"
     ]
    }
   ],
   "source": [
    "st = \"Hello\"\n",
    "print(st[:-3])"
   ]
  },
  {
   "cell_type": "code",
   "execution_count": 66,
   "id": "025cf59d",
   "metadata": {},
   "outputs": [],
   "source": [
    "# string methods to modify them \n",
    "# .upper()\n",
    "# .lower() // \n",
    "# .strip() // removes white space from begining and ending\n",
    "# .split() // returns array\n",
    "# .replace()"
   ]
  },
  {
   "cell_type": "code",
   "execution_count": 68,
   "id": "1dfc4035",
   "metadata": {},
   "outputs": [
    {
     "name": "stdout",
     "output_type": "stream",
     "text": [
      "I am Tanvir\n"
     ]
    }
   ],
   "source": [
    "# String Formating\n",
    "name = \"Tanvir\"\n",
    "x = f\"I am {name}\"\n",
    "print(x)"
   ]
  },
  {
   "cell_type": "markdown",
   "id": "a6cd0678",
   "metadata": {},
   "source": [
    "![Escape Characters](./images/escape.png)"
   ]
  }
 ],
 "metadata": {
  "kernelspec": {
   "display_name": "Python 3",
   "language": "python",
   "name": "python3"
  },
  "language_info": {
   "codemirror_mode": {
    "name": "ipython",
    "version": 3
   },
   "file_extension": ".py",
   "mimetype": "text/x-python",
   "name": "python",
   "nbconvert_exporter": "python",
   "pygments_lexer": "ipython3",
   "version": "3.9.6"
  }
 },
 "nbformat": 4,
 "nbformat_minor": 5
}
