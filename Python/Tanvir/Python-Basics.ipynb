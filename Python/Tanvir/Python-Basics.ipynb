{
 "cells": [
  {
   "cell_type": "markdown",
   "id": "238a2e9a",
   "metadata": {},
   "source": [
    "![python](https://media2.giphy.com/media/v1.Y2lkPTc5MGI3NjExeWdkZ2tsYjhhMzllcGplZWh3d2thOWRkanM2OTg4ejZwcDI4bzNxMCZlcD12MV9pbnRlcm5hbF9naWZfYnlfaWQmY3Q9Zw/ENagATV1Gr9eg/giphy.gif)\n",
    "# Learning Python 😂 in 2025\n",
    "    tanvir rahman tonoy | 16.06.2025"
   ]
  },
  {
   "cell_type": "code",
   "execution_count": 2,
   "id": "66e12997",
   "metadata": {},
   "outputs": [
    {
     "name": "stdout",
     "output_type": "stream",
     "text": [
      "3.9.6 (default, Apr 30 2025, 02:07:17) \n",
      "[Clang 17.0.0 (clang-1700.0.13.5)]\n"
     ]
    }
   ],
   "source": [
    "import sys\n",
    "print(sys.version)"
   ]
  },
  {
   "cell_type": "code",
   "execution_count": 3,
   "id": "936c3d2d",
   "metadata": {},
   "outputs": [
    {
     "name": "stdout",
     "output_type": "stream",
     "text": [
      "Life is full of surprises ;) \n"
     ]
    }
   ],
   "source": [
    "print(\"Life is full of surprises ;) \")"
   ]
  },
  {
   "cell_type": "code",
   "execution_count": 4,
   "id": "8802690e",
   "metadata": {},
   "outputs": [
    {
     "name": "stdout",
     "output_type": "stream",
     "text": [
      "something strange\n"
     ]
    }
   ],
   "source": [
    "a = \"something\"\n",
    "b = \"strange\"\n",
    "print(a,b)"
   ]
  },
  {
   "cell_type": "markdown",
   "id": "cf5e92ff",
   "metadata": {},
   "source": [
    "### Actually I know a little about basics of python so I will be learning with this flow : \n",
    "\n",
    "1. variable naming , indentation\n",
    "2. data types in pyton \n",
    "3. operations \n",
    "4. control flow and blocks \n",
    "5. loops \n",
    "6. Functions \n",
    "7. Making some project with python basics "
   ]
  },
  {
   "cell_type": "markdown",
   "id": "03e6fef6",
   "metadata": {},
   "source": [
    "## 2. Data Types \n",
    "![data types](./images/data%20types.png)"
   ]
  },
  {
   "cell_type": "markdown",
   "id": "0880fc37",
   "metadata": {},
   "source": [
    "### Number Type "
   ]
  },
  {
   "cell_type": "code",
   "execution_count": 5,
   "id": "34650b5c",
   "metadata": {},
   "outputs": [
    {
     "name": "stdout",
     "output_type": "stream",
     "text": [
      "5100000000000.0\n"
     ]
    }
   ],
   "source": [
    "# Scientific\n",
    "x = 510e10\n",
    "print(x)"
   ]
  },
  {
   "cell_type": "code",
   "execution_count": 6,
   "id": "e5495d34",
   "metadata": {},
   "outputs": [
    {
     "name": "stdout",
     "output_type": "stream",
     "text": [
      "7j\n"
     ]
    }
   ],
   "source": [
    "# Complex\n",
    "a,b = 5j , 2j\n",
    "print(a+b)"
   ]
  },
  {
   "cell_type": "code",
   "execution_count": 7,
   "id": "0cf36244",
   "metadata": {},
   "outputs": [
    {
     "name": "stdout",
     "output_type": "stream",
     "text": [
      "Heads\n"
     ]
    }
   ],
   "source": [
    "import random\n",
    "x = random.randrange(1,3)\n",
    "if (x%2 == 0):\n",
    "    print(\"Heads\")\n",
    "else:\n",
    "    print(\"Tails\")"
   ]
  },
  {
   "cell_type": "code",
   "execution_count": 8,
   "id": "e53cd58e",
   "metadata": {},
   "outputs": [
    {
     "name": "stdout",
     "output_type": "stream",
     "text": [
      "\n",
      "Life is full of surprises \n",
      "Every Single Day I'm gonna made \n",
      "someting great that's my way ...\n",
      "\n"
     ]
    }
   ],
   "source": [
    "# strings \n",
    "x = \"\"\"\n",
    "Life is full of surprises \n",
    "Every Single Day I'm gonna made \n",
    "someting great that's my way ...\n",
    "\"\"\"\n",
    "print(x)"
   ]
  },
  {
   "cell_type": "code",
   "execution_count": 9,
   "id": "76009977",
   "metadata": {},
   "outputs": [
    {
     "name": "stdout",
     "output_type": "stream",
     "text": [
      "94\n",
      "Yes Day Exists in the string\n"
     ]
    }
   ],
   "source": [
    "# string is like a list so it has some common methods like lenght \n",
    "print(len(x))\n",
    "\n",
    "# it also supports is contain mehtod : in \n",
    "\n",
    "if \"Day\" in x:\n",
    "    print(\"Yes Day Exists in the string\")"
   ]
  },
  {
   "cell_type": "code",
   "execution_count": 10,
   "id": "e1f571ba",
   "metadata": {},
   "outputs": [
    {
     "name": "stdout",
     "output_type": "stream",
     "text": [
      "He\n"
     ]
    }
   ],
   "source": [
    "st = \"Hello\"\n",
    "print(st[:-3])"
   ]
  },
  {
   "cell_type": "code",
   "execution_count": 11,
   "id": "025cf59d",
   "metadata": {},
   "outputs": [],
   "source": [
    "# string methods to modify them \n",
    "# .upper()\n",
    "# .lower() // \n",
    "# .strip() // removes white space from begining and ending\n",
    "# .split() // returns array\n",
    "# .replace()"
   ]
  },
  {
   "cell_type": "code",
   "execution_count": 12,
   "id": "1dfc4035",
   "metadata": {},
   "outputs": [
    {
     "name": "stdout",
     "output_type": "stream",
     "text": [
      "I am Tanvir\n"
     ]
    }
   ],
   "source": [
    "# String Formating\n",
    "name = \"Tanvir\"\n",
    "x = f\"I am {name}\"\n",
    "print(x)"
   ]
  },
  {
   "cell_type": "markdown",
   "id": "a6cd0678",
   "metadata": {},
   "source": [
    "![Escape Characters](./images/escape.png)"
   ]
  },
  {
   "cell_type": "markdown",
   "id": "bac3cedb",
   "metadata": {},
   "source": [
    "### Operators\n",
    "    Arithmetic operators\n",
    "    Assignment operators\n",
    "    Comparison operators\n",
    "    Logical operators\n",
    "    Identity operators\n",
    "    Membership operators\n",
    "    Bitwise operators"
   ]
  },
  {
   "cell_type": "markdown",
   "id": "9192bb3a",
   "metadata": {},
   "source": [
    "Few unkonwn operators are \n",
    ">>= , <<= , := , ~\n",
    "But Eventually they are : bitwise right shift, bitwise left shift , unkonwn , not "
   ]
  },
  {
   "cell_type": "markdown",
   "id": "dd5da285",
   "metadata": {},
   "source": [
    "## List\n",
    "They are used to store mulitple items in a single variable. "
   ]
  },
  {
   "cell_type": "code",
   "execution_count": 13,
   "id": "66729ee6",
   "metadata": {},
   "outputs": [
    {
     "name": "stdout",
     "output_type": "stream",
     "text": [
      "['item1', 'item2', 'item3']\n"
     ]
    }
   ],
   "source": [
    "ourList = ['item1','item2','item3']\n",
    "print(ourList)"
   ]
  },
  {
   "cell_type": "code",
   "execution_count": 14,
   "id": "88aff23b",
   "metadata": {},
   "outputs": [
    {
     "name": "stdout",
     "output_type": "stream",
     "text": [
      "item1\n"
     ]
    }
   ],
   "source": [
    "print(ourList[0])"
   ]
  },
  {
   "cell_type": "markdown",
   "id": "f4d34a54",
   "metadata": {},
   "source": [
    "### List can store different data types "
   ]
  },
  {
   "cell_type": "code",
   "execution_count": 27,
   "id": "5b3a0917",
   "metadata": {},
   "outputs": [
    {
     "name": "stdout",
     "output_type": "stream",
     "text": [
      "['a', 'b', 'c']\n"
     ]
    }
   ],
   "source": [
    "# to create list we can take use of the list() constructor \n",
    "ourNewList = list((\"a\",\"b\",\"c\"))\n",
    "print(ourNewList)"
   ]
  },
  {
   "cell_type": "code",
   "execution_count": 31,
   "id": "458e6b39",
   "metadata": {},
   "outputs": [
    {
     "name": "stdout",
     "output_type": "stream",
     "text": [
      "['Tanvir', 'aa', 'aa', 'c']\n"
     ]
    }
   ],
   "source": [
    "# using range to change the value of an element in a list\n",
    "ourNewList[1:2] = [\"aa\"] # confusing right ? just remember last index is not included \n",
    "\"\"\"\n",
    "-------------\n",
    "| a | b | c\n",
    "-------------\n",
    "  0   1   2  \n",
    "-------------\n",
    "\"\"\"\n",
    "print(ourNewList)\n"
   ]
  },
  {
   "cell_type": "code",
   "execution_count": null,
   "id": "7751ef26",
   "metadata": {},
   "outputs": [],
   "source": [
    "# insert items : \n",
    "# syntax \n",
    "# list.insert(index,value) it will replace Right ? \n",
    "ourNewList.insert(0,\"Tanvir\") \n",
    "# Conclusion : Yes it will repace last value on that position\n"
   ]
  },
  {
   "cell_type": "code",
   "execution_count": 33,
   "id": "7db1dcfc",
   "metadata": {},
   "outputs": [
    {
     "name": "stdout",
     "output_type": "stream",
     "text": [
      "[1, 2, 3, 4, 5, 6, 7, 8]\n"
     ]
    }
   ],
   "source": [
    "#  we can combine two list with extend method\n",
    "list1 = [1,2,3,4]\n",
    "list2 = [5,6,7,8]\n",
    "list1.extend(list2)\n",
    "print(list1)\n",
    "# it supports any iterable like list or tuple"
   ]
  },
  {
   "cell_type": "code",
   "execution_count": 34,
   "id": "343c1e3a",
   "metadata": {},
   "outputs": [],
   "source": [
    "# Remove() , pop(), del keyword , clear() method is used to remove elements from list\n"
   ]
  },
  {
   "cell_type": "code",
   "execution_count": 35,
   "id": "b06d59fe",
   "metadata": {},
   "outputs": [
    {
     "name": "stdout",
     "output_type": "stream",
     "text": [
      "1\n",
      "2\n",
      "3\n",
      "4\n",
      "5\n",
      "6\n",
      "7\n",
      "8\n"
     ]
    }
   ],
   "source": [
    "# loops in list \n",
    "for x in list1:\n",
    "    print(x)\n"
   ]
  },
  {
   "cell_type": "code",
   "execution_count": 37,
   "id": "ca407d9d",
   "metadata": {},
   "outputs": [
    {
     "name": "stdout",
     "output_type": "stream",
     "text": [
      "1\n",
      "2\n",
      "3\n",
      "4\n"
     ]
    }
   ],
   "source": [
    "for x in range(len(list2)):\n",
    "    print(list1[x])\n"
   ]
  },
  {
   "cell_type": "markdown",
   "id": "c345f4f9",
   "metadata": {},
   "source": [
    "## Also consider list comprehension in list \n",
    "```py\n",
    "[print(x) for x in listName]\n",
    "```"
   ]
  },
  {
   "cell_type": "markdown",
   "id": "a536dd73",
   "metadata": {},
   "source": [
    "## It should be learn after getting the basics "
   ]
  },
  {
   "cell_type": "markdown",
   "id": "f867efe7",
   "metadata": {},
   "source": []
  }
 ],
 "metadata": {
  "kernelspec": {
   "display_name": "Python 3",
   "language": "python",
   "name": "python3"
  },
  "language_info": {
   "codemirror_mode": {
    "name": "ipython",
    "version": 3
   },
   "file_extension": ".py",
   "mimetype": "text/x-python",
   "name": "python",
   "nbconvert_exporter": "python",
   "pygments_lexer": "ipython3",
   "version": "3.9.6"
  }
 },
 "nbformat": 4,
 "nbformat_minor": 5
}
