{
 "cells": [
  {
   "cell_type": "markdown",
   "id": "0044eef0",
   "metadata": {},
   "source": [
    "### Single Neuron ###"
   ]
  },
  {
   "cell_type": "code",
   "execution_count": null,
   "id": "1c9b82d5",
   "metadata": {},
   "outputs": [],
   "source": [
    "# basic formulas : \n",
    "# Output = input*weight + ... + bias \n",
    "Input = [1,2,3]\n",
    "Weight = [0.1,-0.9,0.88]\n",
    "Bias = 2\n",
    "\n",
    "# Output = Input[0]*Weight[0]+Input[1]*Weight[1]+Input[2]*Weight[2]+Bias\n",
    "\n",
    "# for better readability I'm writing the same line in the following way: \n",
    "Output = (Input[0]*Weight[0]+\n",
    "          Input[1]*Weight[1]+\n",
    "          Input[2]*Weight[2]+Bias)\n",
    "\n",
    "print(Output)"
   ]
  },
  {
   "cell_type": "markdown",
   "id": "e5ec599c",
   "metadata": {},
   "source": [
    "### A Layer of Neurons ###"
   ]
  },
  {
   "cell_type": "code",
   "execution_count": 40,
   "id": "ca16c586",
   "metadata": {},
   "outputs": [
    {
     "name": "stdout",
     "output_type": "stream",
     "text": [
      "[4.8, 1.21, 2.385, 3.7785]\n"
     ]
    }
   ],
   "source": [
    "inputs = [1,2,3,2.5] # or previous layer outputs \n",
    "\n",
    "weights1 = [0.2,0.8,-0.5,1] # first neuron \n",
    "Bias1 = 2\n",
    "\n",
    "weights2 =[0.5,-0.91,0.26,-0.5] # second neuron\n",
    "Bias2 = 3\n",
    "\n",
    "weights3 = [-0.26,-0.27,0.17,0.87] # 3rd one \n",
    "Bias3 = .5\n",
    "\n",
    "weights4 = [-0.211,-0.217,0.127,0.817]\n",
    "Bias4 = 2\n",
    "\n",
    "# we well get the output as a list of 3 items representing the outputs of each neuron as the result of the layer that consists of 3 neurons\n",
    "\n",
    "LayerOutput = [\n",
    "    (inputs[0]*weights1[0]+\n",
    "    inputs[1]*weights1[1]+\n",
    "    inputs[2]*weights1[2]+\n",
    "    inputs[3]*weights1[3]+ Bias1),\n",
    "\n",
    "    (inputs[0]*weights2[0]+\n",
    "    inputs[1]*weights2[1]+\n",
    "    inputs[2]*weights2[2]+\n",
    "    inputs[3]*weights2[3]+ Bias2),\n",
    "\n",
    "    (inputs[0]*weights3[0]+\n",
    "    inputs[1]*weights3[1]+\n",
    "    inputs[2]*weights3[2]+\n",
    "    inputs[3]*weights3[3]+ Bias3),\n",
    "     \n",
    "    (inputs[0]*weights4[0]+\n",
    "    inputs[1]*weights4[1]+\n",
    "    inputs[2]*weights4[2]+\n",
    "    inputs[3]*weights4[3]+ Bias4)\n",
    "]\n",
    "\n",
    "print(LayerOutput)\n"
   ]
  },
  {
   "cell_type": "markdown",
   "id": "24b353e7",
   "metadata": {},
   "source": [
    "we can also take use of loops to avoid repeaded code for a neural network which has  multiple layers and thousands of paramiters "
   ]
  },
  {
   "cell_type": "code",
   "execution_count": null,
   "id": "820a4a75",
   "metadata": {},
   "outputs": [
    {
     "name": "stdout",
     "output_type": "stream",
     "text": [
      "[4.8, 2.46, 2.385, 3.7785]\n"
     ]
    }
   ],
   "source": [
    "inputs = [1,2,3,2.5]\n",
    "\n",
    "weights = [\n",
    "    [0.2,0.8,-0.5,1],\n",
    "    [0.5,-0.91,0.26,-0.5],\n",
    "    [-0.26,-0.27,0.17,0.87],\n",
    "    [-0.211,-0.217,0.127,0.817]\n",
    "]\n",
    "\n",
    "Biases = [2,3,0.5,2]\n",
    "\n",
    "layer_output = [] \n",
    "\n",
    "for neuron_weights, neuron_bias in zip(weights,Biases):\n",
    "    individual_neuron_output = 0\n",
    "\n",
    "    for input_for_the_neuron , weight_value in zip(inputs, neuron_weights):\n",
    "        individual_neuron_output += input_for_the_neuron*weight_value\n",
    "    individual_neuron_output += neuron_bias\n",
    "    # print(individual_neuron_output)\n",
    "    layer_output.append(individual_neuron_output)\n",
    "\n",
    "print(layer_output)\n",
    "\n"
   ]
  },
  {
   "cell_type": "markdown",
   "id": "fec74d3c",
   "metadata": {},
   "source": [
    "\n",
    "    Future Tonoy :\n",
    "What is this zip method ? \n",
    "\n",
    "    Ancient Tonoy:\n",
    "It returns a tuple of tuples where every corresponding indexed items become a pair / tuple ! so confusing right ? \n",
    "\n",
    "### at one glance ###\n",
    "```py\n",
    "Doubt1 = zip(weights,Biases)\n",
    "print(tuple(Doubt1)) # follow along this you will get your answer\n",
    "```"
   ]
  },
  {
   "cell_type": "code",
   "execution_count": null,
   "id": "a818ae8d",
   "metadata": {},
   "outputs": [],
   "source": []
  }
 ],
 "metadata": {
  "kernelspec": {
   "display_name": "Python 3",
   "language": "python",
   "name": "python3"
  },
  "language_info": {
   "codemirror_mode": {
    "name": "ipython",
    "version": 3
   },
   "file_extension": ".py",
   "mimetype": "text/x-python",
   "name": "python",
   "nbconvert_exporter": "python",
   "pygments_lexer": "ipython3",
   "version": "3.9.6"
  }
 },
 "nbformat": 4,
 "nbformat_minor": 5
}
