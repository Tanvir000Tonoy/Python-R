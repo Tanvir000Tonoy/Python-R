{
 "cells": [
  {
   "cell_type": "markdown",
   "id": "52d82145-64c4-4609-89ec-a3a85eb3fe50",
   "metadata": {},
   "source": [
    "A simple project done by Mr Tuan and I'm copying him so that I can learn python and apply my previous knowledge"
   ]
  },
  {
   "cell_type": "code",
   "execution_count": 1,
   "id": "f8f35459-bdfc-4051-89ae-61015cc17e28",
   "metadata": {},
   "outputs": [
    {
     "name": "stdout",
     "output_type": "stream",
     "text": [
      "pygame 2.6.1 (SDL 2.28.4, Python 3.12.4)\n",
      "Hello from the pygame community. https://www.pygame.org/contribute.html\n"
     ]
    },
    {
     "name": "stderr",
     "output_type": "stream",
     "text": [
      "2025-03-01 10:43:55.849 python[28066:509419] +[IMKClient subclass]: chose IMKClient_Modern\n"
     ]
    }
   ],
   "source": [
    "# Bouncing Balls Program\n",
    "# Step 2/7: Draw circle and ball\n",
    "# Lai Programming - Watch Full Tutorial: https://youtu.be/W9fdczla2ds\n",
    "import pygame\n",
    "pygame.init()\n",
    "WIDTH, HEIGHT = 800, 800\n",
    "window = pygame.display.set_mode((WIDTH, HEIGHT))\n",
    "running = True\n",
    "clock = pygame.time.Clock()\n",
    "BLACK = (0, 0, 0)\n",
    "ORANGE = (255, 165, 0)\n",
    "RED = (255,0,0)\n",
    "CIRCLE_CENTER = [WIDTH/2, HEIGHT/2]\n",
    "CIRCLE_RADIUS = 150\n",
    "BALL_RADIUS = 5\n",
    "ball_pos = [WIDTH/2, HEIGHT/2 - 120]\n",
    "while running:\n",
    "\tfor event in pygame.event.get():\n",
    "\t\tif event.type == pygame.QUIT:\n",
    "\t\t\trunning = False\n",
    "\twindow.fill(BLACK)\n",
    "\tpygame.draw.circle(window, ORANGE, CIRCLE_CENTER, CIRCLE_RADIUS, 3)\n",
    "\tpygame.draw.circle(window, RED, ball_pos, BALL_RADIUS)\n",
    "\tpygame.display.flip()\n",
    "\tclock.tick(60)\n",
    "pygame.quit()"
   ]
  },
  {
   "cell_type": "code",
   "execution_count": null,
   "id": "b70e19f0-abcd-4030-8992-39f38302940a",
   "metadata": {},
   "outputs": [],
   "source": []
  }
 ],
 "metadata": {
  "kernelspec": {
   "display_name": "Python [conda env:base] *",
   "language": "python",
   "name": "conda-base-py"
  },
  "language_info": {
   "codemirror_mode": {
    "name": "ipython",
    "version": 3
   },
   "file_extension": ".py",
   "mimetype": "text/x-python",
   "name": "python",
   "nbconvert_exporter": "python",
   "pygments_lexer": "ipython3",
   "version": "3.12.4"
  }
 },
 "nbformat": 4,
 "nbformat_minor": 5
}
